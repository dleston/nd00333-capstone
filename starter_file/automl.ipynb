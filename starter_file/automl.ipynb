{
  "cells": [
    {
      "cell_type": "markdown",
      "source": [
        "# Automated ML\n",
        "\n",
        "TODO: Import Dependencies. In the cell below, import all the dependencies that you will need to complete the project."
      ],
      "metadata": {}
    },
    {
      "cell_type": "code",
      "source": [
        "from azureml.core import Workspace, Dataset, Experiment\n",
        "from azureml.core.webservice import Webservice\n",
        "from azureml.train.automl import AutoMLConfig\n",
        "from azureml.core.compute import ComputeTarget, AmlCompute\n",
        "from azureml.widgets import RunDetails\n",
        "import logging\n",
        "import joblib\n"
      ],
      "outputs": [],
      "execution_count": 24,
      "metadata": {
        "gather": {
          "logged": 1696509863763
        },
        "jupyter": {
          "outputs_hidden": false,
          "source_hidden": false
        },
        "nteract": {
          "transient": {
            "deleting": false
          }
        }
      }
    },
    {
      "cell_type": "markdown",
      "source": [
        "## Dataset\n",
        "\n",
        "### Overview\n",
        "The dataset is a compilation of social and economic information from all neighborhoods in the city of Madrid. We will try to create a model that predicts the average income of a neighborhood based on the rest of indicators.\n",
        "\n",
        "The dataset was gathered from Madrid's [open data website][https://datos.madrid.es/portal/site/egob/menuitem.c05c1f754a33a9fbe4b2e4b284f1a5a0/?vgnextoid=71359583a773a510VgnVCM2000001f4a900aRCRD&vgnextchannel=374512b9ace9f310VgnVCM100000171f5a0aRCRD&vgnextfmt=default] and was transformed to a tabular dataset."
      ],
      "metadata": {}
    },
    {
      "cell_type": "code",
      "source": [
        "# ws = Workspace.from_config()\n",
        "\n",
        "subscription_id = '9a8ef160-b36c-4d1c-95d2-b381d53baaa3'\n",
        "resource_group = 'rg-bigdatanetworks-uad-pro'\n",
        "workspace_name = 'aml-BigDataNetworksuad-pro'\n",
        "\n",
        "ws = Workspace(subscription_id, resource_group, workspace_name)\n",
        "\n",
        "dataset = Dataset.get_by_name(ws, name='panel_indicadores_distritos_barrios_2022')\n",
        "df = dataset.to_pandas_dataframe()\n",
        "df.head(5)"
      ],
      "outputs": [
        {
          "output_type": "execute_result",
          "execution_count": 5,
          "data": {
            "text/plain": "   Barrio  Año medio de contrucción de inmuebles de uso residencial  \\\n0      11                                               1928          \n1      12                                               1927          \n2      13                                               1923          \n3      14                                               1929          \n4      15                                               1930          \n\n   Apartamentos Municipales para Mayores  Asociaciones (Sección 1ª)  \\\n0                                      1                         49   \n1                                      0                         98   \n2                                      0                         31   \n3                                      0                         36   \n4                                      0                         46   \n\n   Asociaciones culturales y casas regionales  Asociaciones de mujeres  \\\n0                                          22                        2   \n1                                          28                        4   \n2                                          10                        1   \n3                                          10                        4   \n4                                          16                        1   \n\n   Asociaciones vecinales  Bibliotecas Comunidad Madrid  \\\n0                       1                             0   \n1                       9                             1   \n2                       1                             0   \n3                       1                             0   \n4                       2                             0   \n\n   Bibliotecas Municipales  Campos de fútbol 11  ...  \\\n0                        1                    0  ...   \n1                        0                    0  ...   \n2                        0                    0  ...   \n3                        1                    0  ...   \n4                        1                    0  ...   \n\n   Tasa absoluta de paro registrado Mujeres  Tasa bruta de natalidad (‰)  \\\n0                                      7.24                          6.4   \n1                                      8.29                          6.3   \n2                                      5.93                          5.9   \n3                                      5.26                          6.8   \n4                                      6.32                          5.6   \n\n   Tasa de crecimiento demográfico (porcentaje)  \\\n0                                           0.0   \n1                                           0.4   \n2                                           0.2   \n3                                           1.0   \n4                                           0.0   \n\n   Tasa de desempleo en hombres de 16 a 24 años  \\\n0                                          3.00   \n1                                          3.71   \n2                                          0.90   \n3                                          1.28   \n4                                          2.63   \n\n   Tasa de desempleo en hombres de 25 a 44 años  \\\n0                                          5.01   \n1                                          5.31   \n2                                          3.45   \n3                                          3.76   \n4                                          4.57   \n\n   Tasa de desempleo en hombres de 45 a 64 años  \\\n0                                         11.38   \n1                                         10.54   \n2                                          8.73   \n3                                          9.13   \n4                                          9.34   \n\n   Tasa de desempleo en mujeres de 16 a 24 años  \\\n0                                          1.48   \n1                                          4.23   \n2                                          0.79   \n3                                          0.64   \n4                                          1.20   \n\n   Tasa de desempleo en mujeres de 25 a 44 años  \\\n0                                          6.28   \n1                                          6.96   \n2                                          4.91   \n3                                          3.56   \n4                                          4.59   \n\n   Tasa de desempleo en mujeres de 45 a 64 años  Total hogares  \n0                                          9.96          11613  \n1                                         11.46          22614  \n2                                          8.78           5488  \n3                                          8.85           8927  \n4                                         10.36          16967  \n\n[5 rows x 106 columns]",
            "text/html": "<div>\n<style scoped>\n    .dataframe tbody tr th:only-of-type {\n        vertical-align: middle;\n    }\n\n    .dataframe tbody tr th {\n        vertical-align: top;\n    }\n\n    .dataframe thead th {\n        text-align: right;\n    }\n</style>\n<table border=\"1\" class=\"dataframe\">\n  <thead>\n    <tr style=\"text-align: right;\">\n      <th></th>\n      <th>Barrio</th>\n      <th>Año medio de contrucción de inmuebles de uso residencial</th>\n      <th>Apartamentos Municipales para Mayores</th>\n      <th>Asociaciones (Sección 1ª)</th>\n      <th>Asociaciones culturales y casas regionales</th>\n      <th>Asociaciones de mujeres</th>\n      <th>Asociaciones vecinales</th>\n      <th>Bibliotecas Comunidad Madrid</th>\n      <th>Bibliotecas Municipales</th>\n      <th>Campos de fútbol 11</th>\n      <th>...</th>\n      <th>Tasa absoluta de paro registrado Mujeres</th>\n      <th>Tasa bruta de natalidad (‰)</th>\n      <th>Tasa de crecimiento demográfico (porcentaje)</th>\n      <th>Tasa de desempleo en hombres de 16 a 24 años</th>\n      <th>Tasa de desempleo en hombres de 25 a 44 años</th>\n      <th>Tasa de desempleo en hombres de 45 a 64 años</th>\n      <th>Tasa de desempleo en mujeres de 16 a 24 años</th>\n      <th>Tasa de desempleo en mujeres de 25 a 44 años</th>\n      <th>Tasa de desempleo en mujeres de 45 a 64 años</th>\n      <th>Total hogares</th>\n    </tr>\n  </thead>\n  <tbody>\n    <tr>\n      <th>0</th>\n      <td>11</td>\n      <td>1928</td>\n      <td>1</td>\n      <td>49</td>\n      <td>22</td>\n      <td>2</td>\n      <td>1</td>\n      <td>0</td>\n      <td>1</td>\n      <td>0</td>\n      <td>...</td>\n      <td>7.24</td>\n      <td>6.4</td>\n      <td>0.0</td>\n      <td>3.00</td>\n      <td>5.01</td>\n      <td>11.38</td>\n      <td>1.48</td>\n      <td>6.28</td>\n      <td>9.96</td>\n      <td>11613</td>\n    </tr>\n    <tr>\n      <th>1</th>\n      <td>12</td>\n      <td>1927</td>\n      <td>0</td>\n      <td>98</td>\n      <td>28</td>\n      <td>4</td>\n      <td>9</td>\n      <td>1</td>\n      <td>0</td>\n      <td>0</td>\n      <td>...</td>\n      <td>8.29</td>\n      <td>6.3</td>\n      <td>0.4</td>\n      <td>3.71</td>\n      <td>5.31</td>\n      <td>10.54</td>\n      <td>4.23</td>\n      <td>6.96</td>\n      <td>11.46</td>\n      <td>22614</td>\n    </tr>\n    <tr>\n      <th>2</th>\n      <td>13</td>\n      <td>1923</td>\n      <td>0</td>\n      <td>31</td>\n      <td>10</td>\n      <td>1</td>\n      <td>1</td>\n      <td>0</td>\n      <td>0</td>\n      <td>0</td>\n      <td>...</td>\n      <td>5.93</td>\n      <td>5.9</td>\n      <td>0.2</td>\n      <td>0.90</td>\n      <td>3.45</td>\n      <td>8.73</td>\n      <td>0.79</td>\n      <td>4.91</td>\n      <td>8.78</td>\n      <td>5488</td>\n    </tr>\n    <tr>\n      <th>3</th>\n      <td>14</td>\n      <td>1929</td>\n      <td>0</td>\n      <td>36</td>\n      <td>10</td>\n      <td>4</td>\n      <td>1</td>\n      <td>0</td>\n      <td>1</td>\n      <td>0</td>\n      <td>...</td>\n      <td>5.26</td>\n      <td>6.8</td>\n      <td>1.0</td>\n      <td>1.28</td>\n      <td>3.76</td>\n      <td>9.13</td>\n      <td>0.64</td>\n      <td>3.56</td>\n      <td>8.85</td>\n      <td>8927</td>\n    </tr>\n    <tr>\n      <th>4</th>\n      <td>15</td>\n      <td>1930</td>\n      <td>0</td>\n      <td>46</td>\n      <td>16</td>\n      <td>1</td>\n      <td>2</td>\n      <td>0</td>\n      <td>1</td>\n      <td>0</td>\n      <td>...</td>\n      <td>6.32</td>\n      <td>5.6</td>\n      <td>0.0</td>\n      <td>2.63</td>\n      <td>4.57</td>\n      <td>9.34</td>\n      <td>1.20</td>\n      <td>4.59</td>\n      <td>10.36</td>\n      <td>16967</td>\n    </tr>\n  </tbody>\n</table>\n<p>5 rows × 106 columns</p>\n</div>"
          },
          "metadata": {}
        }
      ],
      "execution_count": 5,
      "metadata": {
        "gather": {
          "logged": 1696505046643
        },
        "jupyter": {
          "outputs_hidden": false,
          "source_hidden": false
        },
        "nteract": {
          "transient": {
            "deleting": false
          }
        }
      }
    },
    {
      "cell_type": "code",
      "source": [
        "# choose a name for experiment\n",
        "experiment_name = 'aml-barrios-madrid-2022'\n",
        "\n",
        "experiment=Experiment(ws, experiment_name)"
      ],
      "outputs": [],
      "execution_count": 6,
      "metadata": {
        "jupyter": {
          "source_hidden": false,
          "outputs_hidden": false
        },
        "nteract": {
          "transient": {
            "deleting": false
          }
        },
        "gather": {
          "logged": 1696505046954
        }
      }
    },
    {
      "cell_type": "markdown",
      "source": [
        "## AutoML Configuration\n",
        "\n",
        "The configuration is pretty standard. I chose low numbers for the timeout as the performance of the model is not that relevant and we can skip models that take too long to train. The `max_concurrent_iterations` was chosen to max out the nodes available in the compute cluster, and the `max_cores_per_iteration` parameter also reflects that the maximum number of cores on each node should be used.\n",
        "\n",
        "I chose 3 cross-validations as I always like to use CV when training models. Ideally I would choose more (like 5) but given the sample size we have isn't too high (after all there's a limited number of neighborhoods in Madrid), I chose 3.\n",
        " \n",
        "The optimization metric is NRMSE as I want to penalize models whose predictions have extreme errors (even if the average deviations aren't that bad).\n",
        "\n",
        "\n"
      ],
      "metadata": {}
    },
    {
      "cell_type": "code",
      "source": [
        "from azureml.train.automl.utilities import get_primary_metrics\n",
        "get_primary_metrics('regression')"
      ],
      "outputs": [
        {
          "output_type": "execute_result",
          "execution_count": 7,
          "data": {
            "text/plain": "['normalized_mean_absolute_error',\n 'spearman_correlation',\n 'r2_score',\n 'normalized_root_mean_squared_error']"
          },
          "metadata": {}
        }
      ],
      "execution_count": 7,
      "metadata": {
        "jupyter": {
          "source_hidden": false,
          "outputs_hidden": false
        },
        "nteract": {
          "transient": {
            "deleting": false
          }
        },
        "gather": {
          "logged": 1696505047223
        }
      }
    },
    {
      "cell_type": "code",
      "source": [
        "automl_settings = {\n",
        "    'experiment_timeout_hours': 0.25,\n",
        "    'enable_early_stopping':True,\n",
        "    'max_concurrent_iterations': 8,\n",
        "    'max_cores_per_iteration': -1,\n",
        "    'featurization': 'auto',\n",
        "    'verbosity': logging.INFO\n",
        "}\n",
        "\n",
        "automl_config = AutoMLConfig(task='regression',\n",
        "                             training_data=dataset,\n",
        "                             label_column_name='Renta neta media anual de los hogares (Urban Audit)',\n",
        "                             iterations=30,\n",
        "                             iteration_timeout_minutes=5,\n",
        "                             primary_metric='normalized_root_mean_squared_error',\n",
        "                             n_cross_validations=3,\n",
        "                             compute_target=ComputeTarget(workspace=ws, name='CLBigDataNetworksuadDS5V2pro'),\n",
        "                             debug_log='automl_errors.log',\n",
        "                             **automl_settings\n",
        "                            )"
      ],
      "outputs": [],
      "execution_count": 8,
      "metadata": {
        "gather": {
          "logged": 1696505047546
        },
        "jupyter": {
          "outputs_hidden": false,
          "source_hidden": false
        },
        "nteract": {
          "transient": {
            "deleting": false
          }
        }
      }
    },
    {
      "cell_type": "code",
      "source": [
        "# TODO: Submit your experiment\n",
        "# runs = list(experiment.get_runs())\n",
        "\n",
        "# if len(runs) > 0: # We had previously launched this experiment\n",
        "#     remote_run=runs[0]\n",
        "# else:\n",
        "remote_run = experiment.submit(automl_config, show_output=True)"
      ],
      "outputs": [
        {
          "output_type": "stream",
          "name": "stdout",
          "text": "Submitting remote run.\nNo run_configuration provided, running on CLBigDataNetworksuadDS5V2pro with default configuration\nRunning on remote compute: CLBigDataNetworksuadDS5V2pro\n"
        },
        {
          "output_type": "display_data",
          "data": {
            "text/plain": "<IPython.core.display.HTML object>",
            "text/html": "<table style=\"width:100%\"><tr><th>Experiment</th><th>Id</th><th>Type</th><th>Status</th><th>Details Page</th><th>Docs Page</th></tr><tr><td>aml-barrios-madrid-2022</td><td>AutoML_a8b0dd36-7a84-439c-8beb-4fe5cff347b7</td><td>automl</td><td>NotStarted</td><td><a href=\"https://ml.azure.com/runs/AutoML_a8b0dd36-7a84-439c-8beb-4fe5cff347b7?wsid=/subscriptions/9a8ef160-b36c-4d1c-95d2-b381d53baaa3/resourcegroups/rg-bigdatanetworks-uad-pro/workspaces/aml-BigDataNetworksuad-pro&amp;tid=031a09bc-a2bf-44df-888e-4e09355b7a24\" target=\"_blank\" rel=\"noopener\">Link to Azure Machine Learning studio</a></td><td><a href=\"https://docs.microsoft.com/en-us/python/api/overview/azure/ml/intro?view=azure-ml-py\" target=\"_blank\" rel=\"noopener\">Link to Documentation</a></td></tr></table>"
          },
          "metadata": {}
        },
        {
          "output_type": "stream",
          "name": "stdout",
          "text": "\nCurrent status: FeaturesGeneration. Generating features for the dataset.\nCurrent status: DatasetCrossValidationSplit. Generating individually featurized CV splits.\nCurrent status: ModelSelection. Beginning model selection.\n\n********************************************************************************************\nDATA GUARDRAILS: \n\nTYPE:         Missing feature values imputation\nSTATUS:       PASSED\nDESCRIPTION:  No feature missing values were detected in the training data.\n              Learn more about missing value imputation: https://aka.ms/AutomatedMLFeaturization\n\n********************************************************************************************\n\nTYPE:         High cardinality feature detection\nSTATUS:       PASSED\nDESCRIPTION:  Your inputs were analyzed, and no high cardinality features were detected.\n              Learn more about high cardinality feature handling: https://aka.ms/AutomatedMLFeaturization\n\n********************************************************************************************\n\n********************************************************************************************\nITER: The iteration being evaluated.\nPIPELINE: A summary description of the pipeline being evaluated.\nDURATION: Time taken for the current iteration.\nMETRIC: The result of computing score on the fitted pipeline.\nBEST: The best observed score thus far.\n********************************************************************************************\n\n ITER   PIPELINE                                       DURATION            METRIC      BEST\n    0   MaxAbsScaler LightGBM                          0:00:23             0.0778    0.0778\n    3   StandardScalerWrapper ElasticNet               0:00:22             0.2518    0.0778\n    6   MaxAbsScaler ExtremeRandomTrees                0:00:21             0.0677    0.0677\n    7   StandardScalerWrapper ElasticNet               0:00:20             0.1316    0.0677\n    9   StandardScalerWrapper ElasticNet               0:00:24             0.1207    0.0677\n    1   MaxAbsScaler XGBoostRegressor                  0:00:23             0.0724    0.0677\n   10   MaxAbsScaler RandomForest                      0:00:22             0.0753    0.0677\n   12   StandardScalerWrapper ElasticNet               0:00:24             0.1482    0.0677\n    4   MaxAbsScaler ElasticNet                        0:00:23             0.1705    0.0677\n   11   StandardScalerWrapper ElasticNet               0:00:23             0.1316    0.0677\n   13   StandardScalerWrapper ElasticNet               0:00:24             0.1316    0.0677\n   14   StandardScalerWrapper ElasticNet               0:00:23             0.0876    0.0677\n   15   StandardScalerWrapper ElasticNet               0:00:23             0.1438    0.0677\n   16   StandardScalerWrapper DecisionTree             0:00:19             0.1115    0.0677\n    2   MaxAbsScaler ElasticNet                        0:00:22             0.1547    0.0677\n    5   MaxAbsScaler ElasticNet                        0:00:23             0.2596    0.0677\n    8   StandardScalerWrapper ElasticNet               0:00:21             0.2304    0.0677\n   17   StandardScalerWrapper ElasticNet               0:00:18             0.1294    0.0677\n   18   MaxAbsScaler DecisionTree                      0:00:22             0.1082    0.0677\n   19   StandardScalerWrapper ExtremeRandomTrees       0:00:24             0.0714    0.0677\n   23   StandardScalerWrapper RandomForest             0:02:04             0.0820    0.0677\n   26   MaxAbsScaler GradientBoosting                  0:02:04             0.0630    0.0630\n   27   MaxAbsScaler RandomForest                      0:02:04             0.1032    0.0630\n   20   StandardScalerWrapper ExtremeRandomTrees       0:02:04             0.0683    0.0630\n   21   StandardScalerWrapper ExtremeRandomTrees       0:02:04             0.0683    0.0630\n   25   MaxAbsScaler ExtremeRandomTrees                0:02:05             0.0662    0.0630\n   22   MaxAbsScaler ExtremeRandomTrees                0:02:05             0.0723    0.0630\n   24   MaxAbsScaler ExtremeRandomTrees                0:02:04             0.0714    0.0630\n   28    VotingEnsemble                                0:02:05             0.0584    0.0584\n   29    StackEnsemble                                 0:02:04             0.0581    0.0581\n"
        }
      ],
      "execution_count": 9,
      "metadata": {
        "gather": {
          "logged": 1696506091326
        },
        "jupyter": {
          "outputs_hidden": false,
          "source_hidden": false
        },
        "nteract": {
          "transient": {
            "deleting": false
          }
        }
      }
    },
    {
      "cell_type": "code",
      "source": [
        "type(remote_run)"
      ],
      "outputs": [
        {
          "output_type": "execute_result",
          "execution_count": 12,
          "data": {
            "text/plain": "azureml.train.automl.run.AutoMLRun"
          },
          "metadata": {}
        }
      ],
      "execution_count": 12,
      "metadata": {
        "jupyter": {
          "source_hidden": false,
          "outputs_hidden": false
        },
        "nteract": {
          "transient": {
            "deleting": false
          }
        },
        "gather": {
          "logged": 1696506105357
        }
      }
    },
    {
      "cell_type": "markdown",
      "source": [
        "## Run Details\n",
        "\n",
        "OPTIONAL: Write about the different models trained and their performance. Why do you think some models did better than others?\n",
        "\n",
        "TODO: In the cell below, use the `RunDetails` widget to show the different experiments."
      ],
      "metadata": {}
    },
    {
      "cell_type": "code",
      "source": [
        "RunDetails(remote_run).show()"
      ],
      "outputs": [
        {
          "output_type": "display_data",
          "data": {
            "text/plain": "_AutoMLWidget(widget_settings={'childWidgetDisplay': 'popup', 'send_telemetry': False, 'log_level': 'INFO', 's…",
            "application/vnd.jupyter.widget-view+json": {
              "version_major": 2,
              "version_minor": 0,
              "model_id": "b2e68eaffd0849ce8107eac886a8d886"
            }
          },
          "metadata": {}
        },
        {
          "output_type": "display_data",
          "data": {
            "application/aml.mini.widget.v1": "{\"status\": \"Completed\", \"workbench_run_details_uri\": \"https://ml.azure.com/runs/AutoML_a8b0dd36-7a84-439c-8beb-4fe5cff347b7?wsid=/subscriptions/9a8ef160-b36c-4d1c-95d2-b381d53baaa3/resourcegroups/rg-bigdatanetworks-uad-pro/workspaces/aml-BigDataNetworksuad-pro&tid=031a09bc-a2bf-44df-888e-4e09355b7a24\", \"run_id\": \"AutoML_a8b0dd36-7a84-439c-8beb-4fe5cff347b7\", \"run_properties\": {\"run_id\": \"AutoML_a8b0dd36-7a84-439c-8beb-4fe5cff347b7\", \"created_utc\": \"2023-10-05T11:24:14.052102Z\", \"properties\": {\"num_iterations\": \"30\", \"training_type\": \"TrainFull\", \"acquisition_function\": \"EI\", \"primary_metric\": \"normalized_root_mean_squared_error\", \"train_split\": \"0\", \"acquisition_parameter\": \"0\", \"num_cross_validation\": \"3\", \"target\": \"CLBigDataNetworksuadDS5V2pro\", \"AMLSettingsJsonString\": \"{\\\"path\\\":null,\\\"name\\\":\\\"aml-barrios-madrid-2022\\\",\\\"subscription_id\\\":\\\"9a8ef160-b36c-4d1c-95d2-b381d53baaa3\\\",\\\"resource_group\\\":\\\"rg-bigdatanetworks-uad-pro\\\",\\\"workspace_name\\\":\\\"aml-BigDataNetworksuad-pro\\\",\\\"region\\\":\\\"westeurope\\\",\\\"compute_target\\\":\\\"CLBigDataNetworksuadDS5V2pro\\\",\\\"spark_service\\\":null,\\\"azure_service\\\":\\\"remote\\\",\\\"many_models\\\":false,\\\"pipeline_fetch_max_batch_size\\\":1,\\\"enable_batch_run\\\":true,\\\"enable_parallel_run\\\":false,\\\"num_procs\\\":null,\\\"enable_run_restructure\\\":false,\\\"start_auxiliary_runs_before_parent_complete\\\":false,\\\"enable_code_generation\\\":true,\\\"iterations\\\":30,\\\"primary_metric\\\":\\\"normalized_root_mean_squared_error\\\",\\\"task_type\\\":\\\"regression\\\",\\\"positive_label\\\":null,\\\"data_script\\\":null,\\\"test_size\\\":0.0,\\\"test_include_predictions_only\\\":false,\\\"validation_size\\\":0.0,\\\"n_cross_validations\\\":3,\\\"y_min\\\":null,\\\"y_max\\\":null,\\\"num_classes\\\":null,\\\"featurization\\\":\\\"auto\\\",\\\"_ignore_package_version_incompatibilities\\\":false,\\\"is_timeseries\\\":false,\\\"max_cores_per_iteration\\\":-1,\\\"max_concurrent_iterations\\\":8,\\\"iteration_timeout_minutes\\\":5,\\\"mem_in_mb\\\":null,\\\"enforce_time_on_windows\\\":false,\\\"experiment_timeout_minutes\\\":15,\\\"experiment_exit_score\\\":null,\\\"partition_column_names\\\":null,\\\"whitelist_models\\\":null,\\\"blacklist_algos\\\":[\\\"TensorFlowDNN\\\",\\\"TensorFlowLinearRegressor\\\"],\\\"supported_models\\\":[\\\"DecisionTree\\\",\\\"LassoLars\\\",\\\"ExtremeRandomTrees\\\",\\\"LightGBM\\\",\\\"TensorFlowLinearRegressor\\\",\\\"SGD\\\",\\\"RandomForest\\\",\\\"TensorFlowDNN\\\",\\\"KNN\\\",\\\"FastLinearRegressor\\\",\\\"OnlineGradientDescentRegressor\\\",\\\"GradientBoosting\\\",\\\"ElasticNet\\\",\\\"XGBoostRegressor\\\",\\\"TabnetRegressor\\\"],\\\"private_models\\\":[],\\\"auto_blacklist\\\":true,\\\"blacklist_samples_reached\\\":false,\\\"exclude_nan_labels\\\":true,\\\"verbosity\\\":20,\\\"_debug_log\\\":\\\"azureml_automl.log\\\",\\\"show_warnings\\\":false,\\\"model_explainability\\\":true,\\\"service_url\\\":null,\\\"sdk_url\\\":null,\\\"sdk_packages\\\":null,\\\"enable_onnx_compatible_models\\\":false,\\\"enable_split_onnx_featurizer_estimator_models\\\":false,\\\"vm_type\\\":\\\"STANDARD_DS5_V2\\\",\\\"telemetry_verbosity\\\":20,\\\"send_telemetry\\\":true,\\\"enable_dnn\\\":false,\\\"scenario\\\":\\\"AutoML\\\",\\\"environment_label\\\":null,\\\"save_mlflow\\\":false,\\\"enable_categorical_indicators\\\":false,\\\"force_text_dnn\\\":false,\\\"enable_feature_sweeping\\\":true,\\\"enable_early_stopping\\\":true,\\\"early_stopping_n_iters\\\":10,\\\"arguments\\\":null,\\\"dataset_id\\\":\\\"e23c7ddd-dc57-4f1f-b34b-56fe7066898d\\\",\\\"hyperdrive_config\\\":null,\\\"validation_dataset_id\\\":null,\\\"run_source\\\":null,\\\"metrics\\\":null,\\\"enable_metric_confidence\\\":false,\\\"enable_ensembling\\\":true,\\\"enable_stack_ensembling\\\":true,\\\"ensemble_iterations\\\":15,\\\"enable_tf\\\":false,\\\"enable_subsampling\\\":false,\\\"subsample_seed\\\":null,\\\"enable_nimbusml\\\":false,\\\"enable_streaming\\\":false,\\\"force_streaming\\\":false,\\\"track_child_runs\\\":true,\\\"n_best_runs\\\":1,\\\"allowed_private_models\\\":[],\\\"label_column_name\\\":\\\"Renta neta media anual de los hogares (Urban Audit)\\\",\\\"weight_column_name\\\":null,\\\"cv_split_column_names\\\":null,\\\"enable_local_managed\\\":false,\\\"_local_managed_run_id\\\":null,\\\"cost_mode\\\":1,\\\"lag_length\\\":0,\\\"metric_operation\\\":\\\"minimize\\\",\\\"preprocess\\\":true}\", \"DataPrepJsonString\": \"{\\\\\\\"training_data\\\\\\\": {\\\\\\\"datasetId\\\\\\\": \\\\\\\"e23c7ddd-dc57-4f1f-b34b-56fe7066898d\\\\\\\"}, \\\\\\\"datasets\\\\\\\": 0}\", \"EnableSubsampling\": \"False\", \"runTemplate\": \"AutoML\", \"azureml.runsource\": \"automl\", \"display_task_type\": \"regression\", \"dependencies_versions\": \"{\\\"azureml-widgets\\\": \\\"1.48.0\\\", \\\"azureml-training-tabular\\\": \\\"1.48.0\\\", \\\"azureml-train\\\": \\\"1.48.0\\\", \\\"azureml-train-restclients-hyperdrive\\\": \\\"1.48.0\\\", \\\"azureml-train-core\\\": \\\"1.48.0\\\", \\\"azureml-train-automl\\\": \\\"1.48.0\\\", \\\"azureml-train-automl-runtime\\\": \\\"1.48.0\\\", \\\"azureml-train-automl-client\\\": \\\"1.48.0\\\", \\\"azureml-tensorboard\\\": \\\"1.48.0\\\", \\\"azureml-telemetry\\\": \\\"1.48.0\\\", \\\"azureml-sdk\\\": \\\"1.48.0\\\", \\\"azureml-samples\\\": \\\"0+unknown\\\", \\\"azureml-responsibleai\\\": \\\"1.48.0\\\", \\\"azureml-pipeline\\\": \\\"1.48.0\\\", \\\"azureml-pipeline-steps\\\": \\\"1.48.0\\\", \\\"azureml-pipeline-core\\\": \\\"1.48.0\\\", \\\"azureml-opendatasets\\\": \\\"1.48.0\\\", \\\"azureml-mlflow\\\": \\\"1.48.0\\\", \\\"azureml-interpret\\\": \\\"1.48.0\\\", \\\"azureml-inference-server-http\\\": \\\"0.7.7\\\", \\\"azureml-explain-model\\\": \\\"1.48.0\\\", \\\"azureml-defaults\\\": \\\"1.48.0\\\", \\\"azureml-dataset-runtime\\\": \\\"1.53.0\\\", \\\"azureml-dataprep\\\": \\\"4.12.4\\\", \\\"azureml-dataprep-rslex\\\": \\\"2.19.5\\\", \\\"azureml-dataprep-native\\\": \\\"38.0.0\\\", \\\"azureml-datadrift\\\": \\\"1.48.0\\\", \\\"azureml-core\\\": \\\"1.48.0\\\", \\\"azureml-contrib-services\\\": \\\"1.48.0\\\", \\\"azureml-contrib-server\\\": \\\"1.48.0\\\", \\\"azureml-contrib-reinforcementlearning\\\": \\\"1.48.0\\\", \\\"azureml-contrib-pipeline-steps\\\": \\\"1.48.0\\\", \\\"azureml-contrib-notebook\\\": \\\"1.48.0\\\", \\\"azureml-contrib-fairness\\\": \\\"1.48.0\\\", \\\"azureml-contrib-dataset\\\": \\\"1.48.0\\\", \\\"azureml-contrib-automl-pipeline-steps\\\": \\\"1.48.0\\\", \\\"azureml-cli-common\\\": \\\"1.48.0\\\", \\\"azureml-automl-runtime\\\": \\\"1.48.0.post1\\\", \\\"azureml-automl-dnn-nlp\\\": \\\"1.48.0\\\", \\\"azureml-automl-core\\\": \\\"1.48.0\\\", \\\"azureml-accel-models\\\": \\\"1.48.0\\\"}\", \"_aml_system_scenario_identification\": \"Remote.Parent\", \"ClientType\": \"SDK\", \"PlatformVersion\": \"DPV1\", \"environment_cpu_name\": \"AzureML-AutoML\", \"environment_cpu_label\": \"nimbus-deprecation\", \"environment_gpu_name\": \"AzureML-AutoML-GPU\", \"environment_gpu_label\": \"prod\", \"root_attribution\": \"automl\", \"attribution\": \"AutoML\", \"Orchestrator\": \"AutoML\", \"CancelUri\": \"https://d12d02e6-bc15-4159-adcc-7ec0a881f298.workspace.westeurope.api.azureml.ms/jasmine/v1.0/subscriptions/9a8ef160-b36c-4d1c-95d2-b381d53baaa3/resourceGroups/rg-bigdatanetworks-uad-pro/providers/Microsoft.MachineLearningServices/workspaces/aml-BigDataNetworksuad-pro/experimentids/b9f17faf-877e-46fc-a1d1-a9167d7f5146/cancel/AutoML_a8b0dd36-7a84-439c-8beb-4fe5cff347b7\", \"ClientSdkVersion\": \"1.48.0.post2\", \"snapshotId\": \"00000000-0000-0000-0000-000000000000\", \"SetupRunId\": \"AutoML_a8b0dd36-7a84-439c-8beb-4fe5cff347b7_setup\", \"SetupRunContainerId\": \"dcid.AutoML_a8b0dd36-7a84-439c-8beb-4fe5cff347b7_setup\", \"FeaturizationRunJsonPath\": \"featurizer_container.json\", \"FeaturizationRunId\": \"AutoML_a8b0dd36-7a84-439c-8beb-4fe5cff347b7_featurize\", \"ProblemInfoJsonString\": \"{\\\"dataset_num_categorical\\\": 0, \\\"is_sparse\\\": true, \\\"subsampling\\\": false, \\\"has_extra_col\\\": true, \\\"dataset_classes\\\": 130, \\\"dataset_features\\\": 154, \\\"dataset_samples\\\": 131, \\\"single_frequency_class_detected\\\": false}\", \"ModelExplainRunId\": \"AutoML_a8b0dd36-7a84-439c-8beb-4fe5cff347b7_ModelExplain\"}, \"tags\": {\"model_explain_run\": \"best_run\", \"_aml_system_automl_run_workspace_id\": \"d12d02e6-bc15-4159-adcc-7ec0a881f298\", \"_aml_system_azureml.automlComponent\": \"AutoML\", \"pipeline_id_000\": \"b5f35f573ce4f6e8526176d4e0932b5193598307;86f7c6ce026522eff88f32e647e3e27450da2679;cb44bb856e47d617d7a9ad0d334455564181de96;faf12f74cf9bbd358ca5525682c5030d36f7be7c;8a88a88c161345f1ea426367a9f85077c834f4e0;8dd0d2b5b07d59df7d3518d8fdd9759f1d7144ab;735cba3318c2ccc77fba61252dbfd5b383e4584f;7ac99a8d7e1f10883e7b154ca80bc4c96085ea6e;2fc5ee5be65983eab8d5af23f74954191da0c4f2;4bc4ec47eb8df2d5d68b361cd60120e65196f757;7839ca66a0ff9be386363c852f0384a7b2a1c93f;b76be6b5846772ee1128c4d415381c1e9fed455e;363e188cf66af3167162068ddb47df1e1d4c64c1;d06172a655b6232a9b9f551137c6a5776dd25598;0e4d1e646ec698bc1e08f88af9d6e54d9b5422df;3d41561aa650aa5533e046dbc8a84c64295d0663;2dc95d8bafd84221b8de309021c722b4fa570e77;ae729f09378486945c70eb2a2306f8aa8f4e30a7;e82ddfae3f3411c8b05ab2d7bcfa24efe6127128;96f55f18ff731acf0793f5d5a66aed5a59a5b4c4;2147b95d6f8da89599c0e694dd3c720b899f589c;eaa2387ce22da4824e99f853d44ef60ce200a272;e6d3b627d4d5233a4c761e9280a06f6388c365a8;29863dd42c0dfa3da9421e974e143596004dc51e;d7b5ca4918510e5e3696f6e4c2ab81be2b01da1a;6cbff80d09c1e679673278f953ccceadc4532c71;05f3137c367925c7f3f5ea6412286c045d4e3044;728cb82ee2757bf58cebc724f3c081105ca68a2e;__AutoML_Ensemble__;__AutoML_Stack_Ensemble__\", \"score_000\": \"0.06771028299594782;0.2517749538985485;0.11148497467441144;0.07784488969687962;0.08760738435958497;0.14824679340132968;0.12070209074702472;0.129371289050728;0.13162795720513173;0.07242920159736004;0.17053463151838297;0.0753213681371746;0.13162795720513173;0.10818882204209383;0.23039439750942417;0.14376967251869097;0.15474648015543238;0.25961739057405303;0.13161852066682592;0.07140328318834378;0.10317257157413912;0.06297163040885721;0.06826334594974572;0.08203677800147993;0.06833380806854399;0.0661913653270816;0.07232564029307408;0.07136927916243124;0.05837845163273139;0.05808713955833328\", \"predicted_cost_000\": \"0.5;0.5;0.5;0;0.5;0.5;0.5;0.5;0.5;0;0.5;0.5;0.5;0.5;0.5;0.5;0.5;0.5;0.5;0.5;0.4893330648188491;0.10114394160763543;0.06769154633448303;0.1559847462465218;0.03716884264416811;0.02546627801039254;0.043082876132885965;0.03160844867642474;0;0\", \"fit_time_000\": \"0.028029;0.07387866666666666;0.004467;0.02594566666666667;0.06642300000000001;0.061499;0.06421933333333334;0.06734033333333334;0.063231;0.10967666666666666;0.075847;0.02550933333333333;0.073285;0.008301000000000001;0.06218433333333334;0.06615333333333333;0.059694;0.077867;0.06198;0.061811000000000005;0.49478399999999995;0.6647336666666667;0.1562363333333333;1.1553136666666668;0.034646;0.20085933333333336;0.048104666666666664;0.029077333333333334;19;19\", \"training_percent_000\": \"100;100;100;100;100;100;100;100;100;100;100;100;100;100;100;100;100;100;100;100;100;100;100;100;100;100;100;100;100;100\", \"iteration_000\": \"6;3;16;0;14;12;9;17;7;1;4;10;13;18;8;15;2;5;11;19;27;26;21;23;20;25;22;24;28;29\", \"run_preprocessor_000\": \"MaxAbsScaler;StandardScalerWrapper;StandardScalerWrapper;MaxAbsScaler;StandardScalerWrapper;StandardScalerWrapper;StandardScalerWrapper;StandardScalerWrapper;StandardScalerWrapper;MaxAbsScaler;MaxAbsScaler;MaxAbsScaler;StandardScalerWrapper;MaxAbsScaler;StandardScalerWrapper;StandardScalerWrapper;MaxAbsScaler;MaxAbsScaler;StandardScalerWrapper;StandardScalerWrapper;MaxAbsScaler;MaxAbsScaler;StandardScalerWrapper;StandardScalerWrapper;StandardScalerWrapper;MaxAbsScaler;MaxAbsScaler;MaxAbsScaler;;\", \"run_algorithm_000\": \"ExtremeRandomTrees;ElasticNet;DecisionTree;LightGBM;ElasticNet;ElasticNet;ElasticNet;ElasticNet;ElasticNet;XGBoostRegressor;ElasticNet;RandomForest;ElasticNet;DecisionTree;ElasticNet;ElasticNet;ElasticNet;ElasticNet;ElasticNet;ExtremeRandomTrees;RandomForest;GradientBoosting;ExtremeRandomTrees;RandomForest;ExtremeRandomTrees;ExtremeRandomTrees;ExtremeRandomTrees;ExtremeRandomTrees;VotingEnsemble;StackEnsemble\", \"dynamic_allowlisting_iterations\": \"<20>;\", \"automl_best_child_run_id\": \"AutoML_a8b0dd36-7a84-439c-8beb-4fe5cff347b7_29\", \"model_explain_best_run_child_id\": \"AutoML_a8b0dd36-7a84-439c-8beb-4fe5cff347b7_29\"}, \"end_time_utc\": \"2023-10-05T11:41:08.380032Z\", \"status\": \"Completed\", \"log_files\": {}, \"log_groups\": [], \"run_duration\": \"0:16:54\", \"run_number\": \"1696505054\", \"run_queued_details\": {\"status\": \"Completed\", \"details\": null}}, \"child_runs\": [{\"run_id\": \"AutoML_a8b0dd36-7a84-439c-8beb-4fe5cff347b7_setup\", \"run_number\": 1696505066, \"metric\": null, \"status\": \"Completed\", \"run_type\": \"azureml.scriptrun\", \"training_percent\": null, \"start_time\": \"2023-10-05T11:24:40.643982Z\", \"end_time\": \"2023-10-05T11:26:45.29746Z\", \"created_time\": \"2023-10-05T11:24:26.615305Z\", \"created_time_dt\": \"2023-10-05T11:24:26.615305Z\", \"duration\": \"0:02:18\", \"iteration\": null, \"goal\": null, \"run_name\": \"Completed\", \"run_properties\": null}, {\"run_id\": \"AutoML_a8b0dd36-7a84-439c-8beb-4fe5cff347b7_featurize\", \"run_number\": 1696505205, \"metric\": null, \"status\": \"Completed\", \"run_type\": \"automl.featurization\", \"training_percent\": null, \"start_time\": \"2023-10-05T11:26:46.295315Z\", \"end_time\": \"2023-10-05T11:28:26.748934Z\", \"created_time\": \"2023-10-05T11:26:45.767881Z\", \"created_time_dt\": \"2023-10-05T11:26:45.767881Z\", \"duration\": \"0:01:40\", \"iteration\": null, \"goal\": null, \"run_name\": \"Completed\", \"run_properties\": null}, {\"run_id\": \"AutoML_a8b0dd36-7a84-439c-8beb-4fe5cff347b7_0\", \"run_number\": 1696505308, \"metric\": null, \"status\": \"Completed\", \"run_type\": null, \"training_percent\": \"100\", \"start_time\": \"2023-10-05T11:28:55.843567Z\", \"end_time\": \"2023-10-05T11:29:19.059271Z\", \"created_time\": \"2023-10-05T11:28:28.988062Z\", \"created_time_dt\": \"2023-10-05T11:28:28.988062Z\", \"duration\": \"0:00:50\", \"iteration\": \"0\", \"goal\": \"normalized_root_mean_squared_error_min\", \"run_name\": \"MaxAbsScaler, LightGBM\", \"run_properties\": \"copy=True\", \"primary_metric\": 0.07784489, \"best_metric\": 0.07784489}, {\"run_id\": \"AutoML_a8b0dd36-7a84-439c-8beb-4fe5cff347b7_1\", \"run_number\": 1696505309, \"metric\": null, \"status\": \"Completed\", \"run_type\": null, \"training_percent\": \"100\", \"start_time\": \"2023-10-05T11:29:19.984219Z\", \"end_time\": \"2023-10-05T11:29:42.54452Z\", \"created_time\": \"2023-10-05T11:28:29.546229Z\", \"created_time_dt\": \"2023-10-05T11:28:29.546229Z\", \"duration\": \"0:01:12\", \"iteration\": \"1\", \"goal\": \"normalized_root_mean_squared_error_min\", \"run_name\": \"MaxAbsScaler, XGBoostRegressor\", \"run_properties\": \"copy=True\", \"primary_metric\": 0.0724292, \"best_metric\": 0.0724292}, {\"run_id\": \"AutoML_a8b0dd36-7a84-439c-8beb-4fe5cff347b7_worker_0\", \"run_number\": 1696505310, \"metric\": null, \"status\": \"Completed\", \"run_type\": \"azureml.scriptrun\", \"training_percent\": null, \"start_time\": \"2023-10-05T11:28:45.665885Z\", \"end_time\": \"2023-10-05T11:30:44.774191Z\", \"created_time\": \"2023-10-05T11:28:30.397363Z\", \"created_time_dt\": \"2023-10-05T11:28:30.397363Z\", \"duration\": \"0:02:14\", \"iteration\": null, \"goal\": null, \"run_name\": \"Completed\", \"run_properties\": null}, {\"run_id\": \"AutoML_a8b0dd36-7a84-439c-8beb-4fe5cff347b7_4\", \"run_number\": 1696505311, \"metric\": null, \"status\": \"Completed\", \"run_type\": null, \"training_percent\": \"100\", \"start_time\": \"2023-10-05T11:29:19.968961Z\", \"end_time\": \"2023-10-05T11:29:43.158723Z\", \"created_time\": \"2023-10-05T11:28:31.135326Z\", \"created_time_dt\": \"2023-10-05T11:28:31.135326Z\", \"duration\": \"0:01:12\", \"iteration\": \"4\", \"goal\": \"normalized_root_mean_squared_error_min\", \"run_name\": \"MaxAbsScaler, ElasticNet\", \"run_properties\": \"copy=True\", \"primary_metric\": 0.17053463, \"best_metric\": 0.0724292}, {\"run_id\": \"AutoML_a8b0dd36-7a84-439c-8beb-4fe5cff347b7_worker_1\", \"run_number\": 1696505312, \"metric\": null, \"status\": \"Completed\", \"run_type\": \"azureml.scriptrun\", \"training_percent\": null, \"start_time\": \"2023-10-05T11:28:45.684458Z\", \"end_time\": \"2023-10-05T11:31:19.845918Z\", \"created_time\": \"2023-10-05T11:28:32.130705Z\", \"created_time_dt\": \"2023-10-05T11:28:32.130705Z\", \"duration\": \"0:02:47\", \"iteration\": null, \"goal\": null, \"run_name\": \"Completed\", \"run_properties\": null}, {\"run_id\": \"AutoML_a8b0dd36-7a84-439c-8beb-4fe5cff347b7_worker_2\", \"run_number\": 1696505313, \"metric\": null, \"status\": \"Completed\", \"run_type\": \"azureml.scriptrun\", \"training_percent\": null, \"start_time\": \"2023-10-05T11:28:45.982263Z\", \"end_time\": \"2023-10-05T11:31:20.78546Z\", \"created_time\": \"2023-10-05T11:28:33.901835Z\", \"created_time_dt\": \"2023-10-05T11:28:33.901835Z\", \"duration\": \"0:02:46\", \"iteration\": null, \"goal\": null, \"run_name\": \"Completed\", \"run_properties\": null}, {\"run_id\": \"AutoML_a8b0dd36-7a84-439c-8beb-4fe5cff347b7_9\", \"run_number\": 1696505314, \"metric\": null, \"status\": \"Completed\", \"run_type\": null, \"training_percent\": \"100\", \"start_time\": \"2023-10-05T11:28:59.69597Z\", \"end_time\": \"2023-10-05T11:29:23.297907Z\", \"created_time\": \"2023-10-05T11:28:34.13846Z\", \"created_time_dt\": \"2023-10-05T11:28:34.13846Z\", \"duration\": \"0:00:49\", \"iteration\": \"9\", \"goal\": \"normalized_root_mean_squared_error_min\", \"run_name\": \"StandardScalerWrapper, ElasticNet\", \"run_properties\": \"copy=True, with_mean=False, with_std=False\", \"primary_metric\": 0.12070209, \"best_metric\": 0.0724292}, {\"run_id\": \"AutoML_a8b0dd36-7a84-439c-8beb-4fe5cff347b7_worker_3\", \"run_number\": 1696505315, \"metric\": null, \"status\": \"Completed\", \"run_type\": \"azureml.scriptrun\", \"training_percent\": null, \"start_time\": \"2023-10-05T11:28:48.728994Z\", \"end_time\": \"2023-10-05T11:31:23.227646Z\", \"created_time\": \"2023-10-05T11:28:35.428912Z\", \"created_time_dt\": \"2023-10-05T11:28:35.428912Z\", \"duration\": \"0:02:47\", \"iteration\": null, \"goal\": null, \"run_name\": \"Completed\", \"run_properties\": null}, {\"run_id\": \"AutoML_a8b0dd36-7a84-439c-8beb-4fe5cff347b7_worker_4\", \"run_number\": 1696505316, \"metric\": null, \"status\": \"Completed\", \"run_type\": \"azureml.scriptrun\", \"training_percent\": null, \"start_time\": \"2023-10-05T11:28:48.878724Z\", \"end_time\": \"2023-10-05T11:30:28.05495Z\", \"created_time\": \"2023-10-05T11:28:36.503149Z\", \"created_time_dt\": \"2023-10-05T11:28:36.503149Z\", \"duration\": \"0:01:51\", \"iteration\": null, \"goal\": null, \"run_name\": \"Completed\", \"run_properties\": null}, {\"run_id\": \"AutoML_a8b0dd36-7a84-439c-8beb-4fe5cff347b7_worker_5\", \"run_number\": 1696505317, \"metric\": null, \"status\": \"Completed\", \"run_type\": \"azureml.scriptrun\", \"training_percent\": null, \"start_time\": \"2023-10-05T11:28:48.747069Z\", \"end_time\": \"2023-10-05T11:31:23.310915Z\", \"created_time\": \"2023-10-05T11:28:37.685725Z\", \"created_time_dt\": \"2023-10-05T11:28:37.685725Z\", \"duration\": \"0:02:45\", \"iteration\": null, \"goal\": null, \"run_name\": \"Completed\", \"run_properties\": null}, {\"run_id\": \"AutoML_a8b0dd36-7a84-439c-8beb-4fe5cff347b7_worker_6\", \"run_number\": 1696505318, \"metric\": null, \"status\": \"Completed\", \"run_type\": \"azureml.scriptrun\", \"training_percent\": null, \"start_time\": \"2023-10-05T11:28:51.466715Z\", \"end_time\": \"2023-10-05T11:30:55.927496Z\", \"created_time\": \"2023-10-05T11:28:38.703518Z\", \"created_time_dt\": \"2023-10-05T11:28:38.703518Z\", \"duration\": \"0:02:17\", \"iteration\": null, \"goal\": null, \"run_name\": \"Completed\", \"run_properties\": null}, {\"run_id\": \"AutoML_a8b0dd36-7a84-439c-8beb-4fe5cff347b7_worker_7\", \"run_number\": 1696505319, \"metric\": null, \"status\": \"Completed\", \"run_type\": \"azureml.scriptrun\", \"training_percent\": null, \"start_time\": \"2023-10-05T11:29:16.470718Z\", \"end_time\": \"2023-10-05T11:31:50.619424Z\", \"created_time\": \"2023-10-05T11:28:39.733581Z\", \"created_time_dt\": \"2023-10-05T11:28:39.733581Z\", \"duration\": \"0:03:10\", \"iteration\": null, \"goal\": null, \"run_name\": \"Completed\", \"run_properties\": null}, {\"run_id\": \"AutoML_a8b0dd36-7a84-439c-8beb-4fe5cff347b7_27\", \"run_number\": 1696505660, \"metric\": null, \"status\": \"Completed\", \"run_type\": \"azureml.scriptrun\", \"training_percent\": \"100\", \"start_time\": \"2023-10-05T11:34:32.566545Z\", \"end_time\": \"2023-10-05T11:36:36.953793Z\", \"created_time\": \"2023-10-05T11:34:20.836059Z\", \"created_time_dt\": \"2023-10-05T11:34:20.836059Z\", \"duration\": \"0:02:16\", \"iteration\": \"27\", \"goal\": \"normalized_root_mean_squared_error_min\", \"run_name\": \"MaxAbsScaler, RandomForest\", \"run_properties\": \"copy=True\", \"primary_metric\": 0.10317257, \"best_metric\": 0.0724292}, {\"run_id\": \"AutoML_a8b0dd36-7a84-439c-8beb-4fe5cff347b7_28\", \"run_number\": 1696505927, \"metric\": null, \"status\": \"Completed\", \"run_type\": \"azureml.scriptrun\", \"training_percent\": \"100\", \"start_time\": \"2023-10-05T11:39:01.587207Z\", \"end_time\": \"2023-10-05T11:41:06.104001Z\", \"created_time\": \"2023-10-05T11:38:47.184686Z\", \"created_time_dt\": \"2023-10-05T11:38:47.184686Z\", \"duration\": \"0:02:18\", \"iteration\": \"28\", \"goal\": \"normalized_root_mean_squared_error_min\", \"run_name\": \"VotingEnsemble\", \"run_properties\": \"estimators=[('26', Pipeline(memory=None, steps=[('maxabsscaler', MaxAbsScaler(copy=True\", \"primary_metric\": 0.05837845, \"best_metric\": 0.05837845}], \"children_metrics\": {\"categories\": [0], \"series\": {\"root_mean_squared_log_error\": [{\"categories\": [\"0\", \"1\", \"4\", \"9\", \"27\", \"28\"], \"mode\": \"markers\", \"name\": \"root_mean_squared_log_error\", \"stepped\": false, \"type\": \"scatter\", \"data\": [0.11319671591215526, 0.10175852358072623, 0.2492845415152454, 0.15107014847840528, 0.13867812056309012, 0.0854377913334667]}, {\"categories\": [\"0\", \"1\", \"4\", \"9\", \"27\", \"28\"], \"mode\": \"lines\", \"name\": \"root_mean_squared_log_error_min\", \"stepped\": true, \"type\": \"scatter\", \"data\": [0.11319671591215526, 0.10175852358072623, 0.10175852358072623, 0.10175852358072623, 0.10175852358072623, 0.0854377913334667]}], \"mean_absolute_percentage_error\": [{\"categories\": [\"0\", \"1\", \"4\", \"9\", \"27\", \"28\"], \"mode\": \"markers\", \"name\": \"mean_absolute_percentage_error\", \"stepped\": false, \"type\": \"scatter\", \"data\": [8.678358576892863, 7.526676328705574, 19.95247058321037, 13.399224225468013, 10.722341220778086, 6.340441045910488]}, {\"categories\": [\"0\", \"1\", \"4\", \"9\", \"27\", \"28\"], \"mode\": \"lines\", \"name\": \"mean_absolute_percentage_error_min\", \"stepped\": true, \"type\": \"scatter\", \"data\": [8.678358576892863, 7.526676328705574, 7.526676328705574, 7.526676328705574, 7.526676328705574, 6.340441045910488]}], \"spearman_correlation\": [{\"categories\": [\"0\", \"1\", \"4\", \"9\", \"27\", \"28\"], \"mode\": \"markers\", \"name\": \"spearman_correlation\", \"stepped\": false, \"type\": \"scatter\", \"data\": [0.947370717138159, 0.9584281351723211, 0.7726802912849423, 0.8960065774019261, 0.9477593570899074, 0.9636229403671264]}, {\"categories\": [\"0\", \"1\", \"4\", \"9\", \"27\", \"28\"], \"mode\": \"lines\", \"name\": \"spearman_correlation_max\", \"stepped\": true, \"type\": \"scatter\", \"data\": [0.947370717138159, 0.9584281351723211, 0.9584281351723211, 0.9584281351723211, 0.9584281351723211, 0.9636229403671264]}], \"explained_variance\": [{\"categories\": [\"0\", \"1\", \"4\", \"9\", \"27\", \"28\"], \"mode\": \"markers\", \"name\": \"explained_variance\", \"stepped\": false, \"type\": \"scatter\", \"data\": [0.8911286335234615, 0.9105216850150052, 0.4167406373673887, 0.6601710894995432, 0.8257518546050479, 0.9421935209200193]}, {\"categories\": [\"0\", \"1\", \"4\", \"9\", \"27\", \"28\"], \"mode\": \"lines\", \"name\": \"explained_variance_max\", \"stepped\": true, \"type\": \"scatter\", \"data\": [0.8911286335234615, 0.9105216850150052, 0.9105216850150052, 0.9105216850150052, 0.9105216850150052, 0.9421935209200193]}], \"median_absolute_error\": [{\"categories\": [\"0\", \"1\", \"4\", \"9\", \"27\", \"28\"], \"mode\": \"markers\", \"name\": \"median_absolute_error\", \"stepped\": false, \"type\": \"scatter\", \"data\": [2629.179898674253, 2201.6419270833335, 5353.9065391485765, 3684.439050566774, 3283.5365948962767, 1877.424611783453]}, {\"categories\": [\"0\", \"1\", \"4\", \"9\", \"27\", \"28\"], \"mode\": \"lines\", \"name\": \"median_absolute_error_min\", \"stepped\": true, \"type\": \"scatter\", \"data\": [2629.179898674253, 2201.6419270833335, 2201.6419270833335, 2201.6419270833335, 2201.6419270833335, 1877.424611783453]}], \"normalized_mean_absolute_error\": [{\"categories\": [\"0\", \"1\", \"4\", \"9\", \"27\", \"28\"], \"mode\": \"markers\", \"name\": \"normalized_mean_absolute_error\", \"stepped\": false, \"type\": \"scatter\", \"data\": [0.05545430476822499, 0.04922705033243393, 0.1122286610626921, 0.07571699905980811, 0.07056317482837401, 0.04031049904621733]}, {\"categories\": [\"0\", \"1\", \"4\", \"9\", \"27\", \"28\"], \"mode\": \"lines\", \"name\": \"normalized_mean_absolute_error_min\", \"stepped\": true, \"type\": \"scatter\", \"data\": [0.05545430476822499, 0.04922705033243393, 0.04922705033243393, 0.04922705033243393, 0.04922705033243393, 0.04031049904621733]}], \"normalized_root_mean_squared_log_error\": [{\"categories\": [\"0\", \"1\", \"4\", \"9\", \"27\", \"28\"], \"mode\": \"markers\", \"name\": \"normalized_root_mean_squared_log_error\", \"stepped\": false, \"type\": \"scatter\", \"data\": [0.07684117486486858, 0.06907660210323995, 0.16922149102405745, 0.10255074630521388, 0.09413868261327758, 0.057997621318076516]}, {\"categories\": [\"0\", \"1\", \"4\", \"9\", \"27\", \"28\"], \"mode\": \"lines\", \"name\": \"normalized_root_mean_squared_log_error_min\", \"stepped\": true, \"type\": \"scatter\", \"data\": [0.07684117486486858, 0.06907660210323995, 0.06907660210323995, 0.06907660210323995, 0.06907660210323995, 0.057997621318076516]}], \"normalized_root_mean_squared_error\": [{\"categories\": [\"0\", \"1\", \"4\", \"9\", \"27\", \"28\"], \"mode\": \"markers\", \"name\": \"normalized_root_mean_squared_error\", \"stepped\": false, \"type\": \"scatter\", \"data\": [0.07784488969687962, 0.07242920159736004, 0.17053463151838297, 0.12070209074702472, 0.10317257157413912, 0.05837845163273139]}, {\"categories\": [\"0\", \"1\", \"4\", \"9\", \"27\", \"28\"], \"mode\": \"lines\", \"name\": \"normalized_root_mean_squared_error_min\", \"stepped\": true, \"type\": \"scatter\", \"data\": [0.07784488969687962, 0.07242920159736004, 0.07242920159736004, 0.07242920159736004, 0.07242920159736004, 0.05837845163273139]}], \"normalized_median_absolute_error\": [{\"categories\": [\"0\", \"1\", \"4\", \"9\", \"27\", \"28\"], \"mode\": \"markers\", \"name\": \"normalized_median_absolute_error\", \"stepped\": false, \"type\": \"scatter\", \"data\": [0.03710281813488545, 0.031069429695511463, 0.0755539857631534, 0.051994567618283055, 0.046337057871585284, 0.02649409573231708]}, {\"categories\": [\"0\", \"1\", \"4\", \"9\", \"27\", \"28\"], \"mode\": \"lines\", \"name\": \"normalized_median_absolute_error_min\", \"stepped\": true, \"type\": \"scatter\", \"data\": [0.03710281813488545, 0.031069429695511463, 0.031069429695511463, 0.031069429695511463, 0.031069429695511463, 0.02649409573231708]}], \"r2_score\": [{\"categories\": [\"0\", \"1\", \"4\", \"9\", \"27\", \"28\"], \"mode\": \"markers\", \"name\": \"r2_score\", \"stepped\": false, \"type\": \"scatter\", \"data\": [0.8910109703084759, 0.9092959032317119, 0.3951687186250317, 0.6588438206895165, 0.8155991682852962, 0.9413704708551536]}, {\"categories\": [\"0\", \"1\", \"4\", \"9\", \"27\", \"28\"], \"mode\": \"lines\", \"name\": \"r2_score_max\", \"stepped\": true, \"type\": \"scatter\", \"data\": [0.8910109703084759, 0.9092959032317119, 0.9092959032317119, 0.9092959032317119, 0.9092959032317119, 0.9413704708551536]}], \"mean_absolute_error\": [{\"categories\": [\"0\", \"1\", \"4\", \"9\", \"27\", \"28\"], \"mode\": \"markers\", \"name\": \"mean_absolute_error\", \"stepped\": false, \"type\": \"scatter\", \"data\": [3929.602944485959, 3488.3272406569326, 7952.747380224489, 5365.457987376122, 5000.247694688239, 2856.482583413052]}, {\"categories\": [\"0\", \"1\", \"4\", \"9\", \"27\", \"28\"], \"mode\": \"lines\", \"name\": \"mean_absolute_error_min\", \"stepped\": true, \"type\": \"scatter\", \"data\": [3929.602944485959, 3488.3272406569326, 3488.3272406569326, 3488.3272406569326, 3488.3272406569326, 2856.482583413052]}], \"root_mean_squared_error\": [{\"categories\": [\"0\", \"1\", \"4\", \"9\", \"27\", \"28\"], \"mode\": \"markers\", \"name\": \"root_mean_squared_error\", \"stepped\": false, \"type\": \"scatter\", \"data\": [5516.244573700283, 5132.4780835921265, 12084.425058655652, 8553.191554515666, 7311.014766886646, 4136.8138395986125]}, {\"categories\": [\"0\", \"1\", \"4\", \"9\", \"27\", \"28\"], \"mode\": \"lines\", \"name\": \"root_mean_squared_error_min\", \"stepped\": true, \"type\": \"scatter\", \"data\": [5516.244573700283, 5132.4780835921265, 5132.4780835921265, 5132.4780835921265, 5132.4780835921265, 4136.8138395986125]}]}, \"metricName\": null, \"primaryMetricName\": \"normalized_root_mean_squared_error\", \"showLegend\": false}, \"run_metrics\": [{\"name\": \"experiment_status\", \"run_id\": \"AutoML_a8b0dd36-7a84-439c-8beb-4fe5cff347b7\", \"categories\": [0, 1, 2, 3, 4, 5, 6, 7, 8, 9, 10, 11, 12, 13], \"series\": [{\"data\": [\"DatasetEvaluation\", \"FeaturesGeneration\", \"DatasetFeaturization\", \"DatasetFeaturizationCompleted\", \"DatasetCrossValidationSplit\", \"ModelSelection\", \"BestRunExplainModel\", \"ModelExplanationDataSetSetup\", \"PickSurrogateModel\", \"EngineeredFeatureExplanations\", \"EngineeredFeatureExplanations\", \"RawFeaturesExplanations\", \"RawFeaturesExplanations\", \"BestRunExplainModel\"]}]}, {\"name\": \"experiment_status_description\", \"run_id\": \"AutoML_a8b0dd36-7a84-439c-8beb-4fe5cff347b7\", \"categories\": [0, 1, 2, 3, 4, 5, 6, 7, 8, 9, 10, 11, 12, 13], \"series\": [{\"data\": [\"Gathering dataset statistics.\", \"Generating features for the dataset.\", \"Beginning to fit featurizers and featurize the dataset.\", \"Completed fit featurizers and featurizing the dataset.\", \"Generating individually featurized CV splits.\", \"Beginning model selection.\", \"Best run model explanations started\", \"Model explanations data setup completed\", \"Choosing LightGBM as the surrogate model for explanations\", \"Computation of engineered features started\", \"Computation of engineered features completed\", \"Computation of raw features started\", \"Computation of raw features completed\", \"Best run model explanations completed\"]}]}, {\"name\": \"mean_absolute_percentage_error\", \"run_id\": \"AutoML_a8b0dd36-7a84-439c-8beb-4fe5cff347b7\", \"categories\": [0], \"series\": [{\"data\": [6.416441374140352]}]}, {\"name\": \"normalized_root_mean_squared_error\", \"run_id\": \"AutoML_a8b0dd36-7a84-439c-8beb-4fe5cff347b7\", \"categories\": [0], \"series\": [{\"data\": [0.05808713955833328]}]}, {\"name\": \"spearman_correlation\", \"run_id\": \"AutoML_a8b0dd36-7a84-439c-8beb-4fe5cff347b7\", \"categories\": [0], \"series\": [{\"data\": [0.9648243229638579]}]}, {\"name\": \"normalized_median_absolute_error\", \"run_id\": \"AutoML_a8b0dd36-7a84-439c-8beb-4fe5cff347b7\", \"categories\": [0], \"series\": [{\"data\": [0.02835072289514416]}]}, {\"name\": \"normalized_mean_absolute_error\", \"run_id\": \"AutoML_a8b0dd36-7a84-439c-8beb-4fe5cff347b7\", \"categories\": [0], \"series\": [{\"data\": [0.04075009239021988]}]}, {\"name\": \"root_mean_squared_log_error\", \"run_id\": \"AutoML_a8b0dd36-7a84-439c-8beb-4fe5cff347b7\", \"categories\": [0], \"series\": [{\"data\": [0.0859828758345283]}]}, {\"name\": \"normalized_root_mean_squared_log_error\", \"run_id\": \"AutoML_a8b0dd36-7a84-439c-8beb-4fe5cff347b7\", \"categories\": [0], \"series\": [{\"data\": [0.05836764029896912]}]}, {\"name\": \"root_mean_squared_error\", \"run_id\": \"AutoML_a8b0dd36-7a84-439c-8beb-4fe5cff347b7\", \"categories\": [0], \"series\": [{\"data\": [4116.170883382612]}]}, {\"name\": \"explained_variance\", \"run_id\": \"AutoML_a8b0dd36-7a84-439c-8beb-4fe5cff347b7\", \"categories\": [0], \"series\": [{\"data\": [0.943729393828054]}]}, {\"name\": \"median_absolute_error\", \"run_id\": \"AutoML_a8b0dd36-7a84-439c-8beb-4fe5cff347b7\", \"categories\": [0], \"series\": [{\"data\": [2008.988925795705]}]}, {\"name\": \"mean_absolute_error\", \"run_id\": \"AutoML_a8b0dd36-7a84-439c-8beb-4fe5cff347b7\", \"categories\": [0], \"series\": [{\"data\": [2887.6330469557615]}]}, {\"name\": \"r2_score\", \"run_id\": \"AutoML_a8b0dd36-7a84-439c-8beb-4fe5cff347b7\", \"categories\": [0], \"series\": [{\"data\": [0.9419684439356183]}]}], \"run_logs\": \"\\nRun is completed.\", \"graph\": {}, \"widget_settings\": {\"childWidgetDisplay\": \"popup\", \"send_telemetry\": false, \"log_level\": \"INFO\", \"sdk_version\": \"1.48.0\"}, \"loading\": false}"
          },
          "metadata": {}
        }
      ],
      "execution_count": 10,
      "metadata": {
        "gather": {
          "logged": 1696506095560
        },
        "jupyter": {
          "outputs_hidden": false,
          "source_hidden": false
        },
        "nteract": {
          "transient": {
            "deleting": false
          }
        }
      }
    },
    {
      "cell_type": "markdown",
      "source": [
        "## Best Model\n",
        "\n",
        "TODO: In the cell below, get the best model from the automl experiments and display all the properties of the model.\n",
        "\n"
      ],
      "metadata": {}
    },
    {
      "cell_type": "code",
      "source": [
        "# Retrieve and save your best automl model.\n",
        "best_run, fitted_model = remote_run.get_output()\n",
        "print(f'Best run: {best_run}')\n",
        "print(f'Model: {fitted_model}')"
      ],
      "outputs": [
        {
          "output_type": "stream",
          "name": "stdout",
          "text": "Best run: Run(Experiment: aml-barrios-madrid-2022,\nId: AutoML_a8b0dd36-7a84-439c-8beb-4fe5cff347b7_29,\nType: azureml.scriptrun,\nStatus: Completed)\nModel: RegressionPipeline(pipeline=Pipeline(memory=None,\n                                     steps=[('datatransformer',\n                                             DataTransformer(enable_dnn=False, enable_feature_sweeping=True, feature_sweeping_config={}, feature_sweeping_timeout=86400, featurization_config=None, force_text_dnn=False, is_cross_validation=True, is_onnx_compatible=False, observer=None, task='regression', working_dir='/mnt/batch/ta...\n                                             StackEnsembleRegressor(base_learners=[('26', Pipeline(memory=None, steps=[('maxabsscaler', MaxAbsScaler(copy=True)), ('gradientboostingregressor', GradientBoostingRegressor(alpha=0.9, ccp_alpha=0.0, criterion='mse', init=None, learning_rate=0.01, loss='huber', max_depth=2, max_features=0.2, max_leaf_nodes=None, min_impurity_decrease=0.0, min_impurity_split=None, min_samples_leaf=0.0028629618034842247, min_samples_split=0.44274518434944915, min_weight_fraction_leaf=0.0, n_estimators=600, n_iter_no_change=None, presort='deprecated', random_state=None, subsample=0.49999999999999994, tol=0.0001, validation_fraction=0.1, verbose=0, warm_start=False))], verbose=False)), ('6', Pipeline(memory=None, steps=[('maxabsscaler', MaxAbsScaler(copy=True)), ('extratreesregressor', ExtraTreesRegressor(bootstrap=False, ccp_alpha=0.0, criterion='mse', max_depth=None, max_features=0.8, max_leaf_nodes=None, max_samples=None, min_impurity_decrease=0.0, min_impurity_split=None, min_samples_leaf=0.0023646822772690063, min_samples_split=0.005285388593079247, min_weight_fraction_leaf=0.0, n_estimators=10, n_jobs=-1, oob_score=False, random_state=None, verbose=0, warm_start=False))], verbose=False)), ('20', Pipeline(memory=None, steps=[('standardscalerwrapper', StandardScalerWrapper(copy=True, with_mean=False, with_std=True)), ('extratreesregressor', ExtraTreesRegressor(bootstrap=False, ccp_alpha=0.0, criterion='mse', max_depth=None, max_features=0.8, max_leaf_nodes=None, max_samples=None, min_impurity_decrease=0.0, min_impurity_split=None, min_samples_leaf=0.003466237459044996, min_samples_split=0.026024633095283807, min_weight_fraction_leaf=0.0, n_estimators=10, n_jobs=-1, oob_score=False, random_state=None, verbose=0, warm_start=False))], verbose=False)), ('1', Pipeline(memory=None, steps=[('maxabsscaler', MaxAbsScaler(copy=True)), ('xgboostregressor', XGBoostRegressor(n_jobs=0, problem_info=ProblemInfo(gpu_training_param_dict={'processing_unit_type': 'cpu'}), random_state=0, tree_method='auto'))], verbose=False)), ('14', Pipeline(memory=None, steps=[('standardscalerwrapper', StandardScalerWrapper(copy=True, with_mean=False, with_std=True)), ('elasticnet', ElasticNet(alpha=0.26389473684210524, copy_X=True, fit_intercept=True, l1_ratio=0.06210526315789474, max_iter=1000, normalize=False, positive=False, precompute=False, random_state=None, selection='cyclic', tol=0.0001, warm_start=False))], verbose=False))], meta_learner=ElasticNetCV(alphas=None, copy_X=True, cv=None, eps=0.001, fit_intercept=True, l1_ratio=0.5, max_iter=1000, n_alphas=100, n_jobs=None, normalize=False, positive=False, precompute='auto', random_state=None, selection='cyclic', tol=0.0001, verbose=0), training_cv_folds=5))],\n                                     verbose=False),\n                   stddev=[4124.828182099397])\n"
        }
      ],
      "execution_count": 33,
      "metadata": {
        "gather": {
          "logged": 1696513529548
        },
        "jupyter": {
          "outputs_hidden": false,
          "source_hidden": false
        },
        "nteract": {
          "transient": {
            "deleting": false
          }
        }
      }
    },
    {
      "cell_type": "code",
      "source": [
        "joblib.dump(fitted_model, 'automl_model.pkl')"
      ],
      "outputs": [
        {
          "output_type": "execute_result",
          "execution_count": 18,
          "data": {
            "text/plain": "['automl_model.pkl']"
          },
          "metadata": {}
        }
      ],
      "execution_count": 18,
      "metadata": {
        "gather": {
          "logged": 1696506315780
        },
        "jupyter": {
          "outputs_hidden": false,
          "source_hidden": false
        },
        "nteract": {
          "transient": {
            "deleting": false
          }
        }
      }
    },
    {
      "cell_type": "markdown",
      "source": [
        "## Model Deployment\n",
        "\n",
        "Remember you have to deploy only one of the two models you trained but you still need to register both the models. Perform the steps in the rest of this notebook only if you wish to deploy this model.\n",
        "\n",
        "TODO: In the cell below, register the model, create an inference config and deploy the model as a web service."
      ],
      "metadata": {}
    },
    {
      "cell_type": "code",
      "source": [
        "model_name = best_run.properties['model_name']\n",
        "description = 'Best model trained from AutoML'\n",
        "tags = None\n",
        "model = remote_run.register_model(model_name = model_name, \n",
        "                                  description = description, \n",
        "                                  tags = tags)\n",
        "\n",
        "# The deployment was performed using the GUI as we were taught in the previous lesson."
      ],
      "outputs": [],
      "execution_count": 21,
      "metadata": {
        "gather": {
          "logged": 1696507980326
        },
        "jupyter": {
          "outputs_hidden": false,
          "source_hidden": false
        },
        "nteract": {
          "transient": {
            "deleting": false
          }
        }
      }
    },
    {
      "cell_type": "markdown",
      "source": [
        "TODO: In the cell below, send a request to the web service you deployed to test it."
      ],
      "metadata": {
        "collapsed": true,
        "gather": {
          "logged": 1598431657736
        },
        "jupyter": {
          "outputs_hidden": false,
          "source_hidden": false
        },
        "nteract": {
          "transient": {
            "deleting": false
          }
        }
      }
    },
    {
      "cell_type": "code",
      "source": [
        "import urllib.request\n",
        "import json\n",
        "import os\n",
        "import ssl\n",
        "\n",
        "def allowSelfSignedHttps(allowed):\n",
        "    # bypass the server certificate verification on client side\n",
        "    if allowed and not os.environ.get('PYTHONHTTPSVERIFY', '') and getattr(ssl, '_create_unverified_context', None):\n",
        "        ssl._create_default_https_context = ssl._create_unverified_context\n",
        "\n",
        "allowSelfSignedHttps(True) # this line is needed if you use self-signed certificate in your scoring service.\n",
        "\n",
        "# Request data goes here\n",
        "# The example below assumes JSON formatting which may be updated\n",
        "# depending on the format your endpoint expects.\n",
        "# More information can be found here:\n",
        "# https://docs.microsoft.com/azure/machine-learning/how-to-deploy-advanced-entry-script\n",
        "data =  {\n",
        "  \"Inputs\": {\n",
        "    \"data\": [\n",
        "      {\n",
        "        \"Barrio\": 5,\n",
        "        \"Año medio de contrucción de inmuebles de uso residencial\": 1999,\n",
        "        \"Apartamentos Municipales para Mayores\": 1,\n",
        "        \"Asociaciones (Sección 1ª)\": 2,\n",
        "        \"Asociaciones culturales y casas regionales\": 0,\n",
        "        \"Asociaciones de mujeres\": 0,\n",
        "        \"Asociaciones vecinales\": 1,\n",
        "        \"Bibliotecas Comunidad Madrid\": 1,\n",
        "        \"Bibliotecas Municipales\": 1,\n",
        "        \"Campos de fútbol 11\": 1,\n",
        "        \"Centro de Día de Atención a Niños y Niñas (de 3 a 12 años)\": 0,\n",
        "        \"Centros de Adolescentes y Jóvenes (ASPA)\": 0,\n",
        "        \"Centros de Apoyo a las Familias (CAF)\": 0,\n",
        "        \"Centros de Atención a la Infancia (CAI)\": 0,\n",
        "        \"Centros de Atención a las Adicciones (CAD y CCAD)\": 0,\n",
        "        \"Centros de Día de Alzheimer y Físicos\": 0,\n",
        "        \"Centros de Servicios Sociales\": 0,\n",
        "        \"Centros deportivos Municipales\": 2,\n",
        "        \"Centros Municipales de Mayores\": 0,\n",
        "        \"Centros Municipales de Salud Comunitaria (CMSC)\": 0,\n",
        "        \"Centros para personas sin hogar\": 0,\n",
        "        \"Centros y Espacios Culturales\": 0,\n",
        "        \"Colegios Públicos Infantil y Primaria\": 5,\n",
        "        \"Duración media del crédito (meses) en transacción de vivienda\": 200,\n",
        "        \"Edad media de la población\": 48,\n",
        "        \"Escuelas Infantiles Municipales\": 5,\n",
        "        \"Espacios de Igualdad\": 0,\n",
        "        \"Espacios de Ocio para Adolescentes (El Enredadero)\": 0,\n",
        "        \"Etapas educativas. Total niñas\": 400,\n",
        "        \"Etapas educativas. Total niños\": 400,\n",
        "        \"Fundaciones (Sección 2ª)\": 2,\n",
        "        \"Hogares con un hombre solo mayor de 65 años\": 200,\n",
        "        \"Hogares con una mujer sola mayor de 65 años\": 200,\n",
        "        \"Hogares monoparentales: un hombre adulto con uno o más menores\": 0,\n",
        "        \"Hogares monoparentales: una mujer adulta con uno o más menores\": 0,\n",
        "        \"Índice de dependencia (Población de 0-15 + población 65 años y más / Pob. 16-64)\": 40,\n",
        "        \"Instalaciones deportivas básicas\": 1,\n",
        "        \"Mercados Municipales\": 1,\n",
        "        \"Número de inmuebles de uso residencial\": 1500,\n",
        "        \"Número Habitantes\": 3000,\n",
        "        \"Paro registrado (número de personas registradas en SEPE en Febrero 2022)\": 5,\n",
        "        \"Paro registrado (número de personas registradas en SEPE en Febrero 2022) Hombres\": 5,\n",
        "        \"Paro registrado (número de personas registradas en SEPE en Febrero 2022) Mujeres\": 5,\n",
        "        \"Pensión media mensual  Mujeres\": 1800,\n",
        "        \"Pensión media mensual Hombres\": 2100,\n",
        "        \"Personas con nacionalidad española\": 2800,\n",
        "        \"Personas con nacionalidad española Hombres\": 1400,\n",
        "        \"Personas con nacionalidad española Mujeres\": 1400,\n",
        "        \"Personas con nacionalidad extranjera\": 200,\n",
        "        \"Personas con nacionalidad extranjera Hombres\": 100,\n",
        "        \"Personas con nacionalidad extranjera Mujeres\": 100,\n",
        "        \"Piscinas cubiertas\": 1,\n",
        "        \"Piscinas de verano\": 1,\n",
        "        \"Pista de atletismo\": 0,\n",
        "        \"Población de 0 a 14 años\": 800,\n",
        "        \"Población de 15 a 29 años\": 700,\n",
        "        \"Población de 30 a 44  años\": 500,\n",
        "        \"Población de 45 a 64 años\": 200,\n",
        "        \"Población de 65 a 79 años\":200,\n",
        "        \"Población de 65 años y más\": 200,\n",
        "        \"Población de 80 años y más\": 400,\n",
        "        \"Población densidad (hab./Ha.)\": 300,\n",
        "        \"Población en etapa educativa (Población de 3 a 16 años -16 no incluidos)\": 0,\n",
        "        \"Población en etapa educativa de 0 a 2 años\": 200,\n",
        "        \"Población en etapa educativa de 12 a 15 años\": 200,\n",
        "        \"Población en etapa educativa de 3 a 5 años\": 200,\n",
        "        \"Población en etapa educativa de 6 a 11 años\": 200,\n",
        "        \"Población en etapas educativas\": 800,\n",
        "        \"Población Hombres\": 1500,\n",
        "        \"Población infantil femenina en etapa educativa de 0 a 2 años\": 100,\n",
        "        \"Población infantil femenina en etapa educativa de 12 a 15 años\": 100,\n",
        "        \"Población infantil femenina en etapa educativa de 3 a 5 años\": 100,\n",
        "        \"Población infantil femenina en etapa educativa de 6 a 11 años\": 100,\n",
        "        \"Población infantil masculina en etapa educativa de 0 a 2 años\": 100,\n",
        "        \"Población infantil masculina en etapa educativa de 12 a 15 años\": 100,\n",
        "        \"Población infantil masculina en etapa educativa de 3 a 5 años\": 100,\n",
        "        \"Población infantil masculina en etapa educativa de 6 a 11 años\": 100,\n",
        "        \"Población mayor/igual  de 25 años  con estudios superiores, licenciatura, arquitectura, ingeniería sup., estudios sup. no universitarios, doctorado,  postgraduado\": 80,\n",
        "        \"Población mayor/igual  de 25 años  que no sabe leer ni escribir o sin estudios\": 0,\n",
        "        \"Población mayor/igual  de 25 años con Bachiller Elemental, Graduado Escolar, ESO, Formación profesional 1º grado\": 5,\n",
        "        \"Población mayor/igual  de 25 años con enseñanza primaria incompleta\": 0,\n",
        "        \"Población mayor/igual  de 25 años con Formación profesional 2º grado, Bachiller Superior o BUP\": 5,\n",
        "        \"Población mayor/igual  de 25 años con Nivel de estudios desconocido y/o no consta\": 0,\n",
        "        \"Población mayor/igual  de 25 años con titulación media, diplomatura, arquitectura o ingeniería técnica\": 10,\n",
        "        \"Población Mujeres\": 1500,\n",
        "        \"Proporción de envejecimiento (Población mayor de 65 años/Población total)\": 20,\n",
        "        \"Proporción de juventud (Población de 0-15 años/Población total) porcentaje\": 20,\n",
        "        \"Proporción de personas migrantes (Población extranjera menos UE y resto países de OCDE / Población total)\": 5,\n",
        "        \"Proporción de sobre-envejecimiento (Población mayor de 80 años/ Población mayor de 65 años)\": 15,\n",
        "        \"Residencias para personas Mayores\": 2,\n",
        "        \"Superficie (Ha.)\": 150,\n",
        "        \"Superficie media de la vivienda (m2) en transacción\": 120,\n",
        "        \"Tamaño medio del hogar\": 3.22,\n",
        "        \"Tasa absoluta de paro registrado (Febrero  2022)\": 3,\n",
        "        \"Tasa absoluta de paro registrado Hombres\": 3,\n",
        "        \"Tasa absoluta de paro registrado Mujeres\": 4,\n",
        "        \"Tasa bruta de natalidad (‰)\": 12.0,\n",
        "        \"Tasa de crecimiento demográfico (porcentaje)\": 10,\n",
        "        \"Tasa de desempleo en hombres de 16 a 24 años\": 9.4,\n",
        "        \"Tasa de desempleo en hombres de 25 a 44 años\": 4.4,\n",
        "        \"Tasa de desempleo en hombres de 45 a 64 años\": 7.1,\n",
        "        \"Tasa de desempleo en mujeres de 16 a 24 años\": 9.5,\n",
        "        \"Tasa de desempleo en mujeres de 25 a 44 años\": 5.2,\n",
        "        \"Tasa de desempleo en mujeres de 45 a 64 años\": 7.3,\n",
        "        \"Total hogares\": 3500\n",
        "      }\n",
        "    ]\n",
        "  },\n",
        "  \"GlobalParameters\": 0.0\n",
        "}\n",
        "\n",
        "body = str.encode(json.dumps(data))\n",
        "\n",
        "url = 'http://77c2d7fe-72d3-44d7-8be8-2b9ad0486b75.westeurope.azurecontainer.io/score'\n",
        "# Replace this with the primary/secondary key or AMLToken for the endpoint\n",
        "api_key = 'uEG6CQYUeQic60N2XMRCXQ4jgcSxLNpV'\n",
        "if not api_key:\n",
        "    raise Exception(\"A key should be provided to invoke the endpoint\")\n",
        "\n",
        "\n",
        "headers = {'Content-Type':'application/json', 'Authorization':('Bearer '+ api_key)}\n",
        "\n",
        "req = urllib.request.Request(url, body, headers)\n",
        "\n",
        "try:\n",
        "    response = urllib.request.urlopen(req)\n",
        "\n",
        "    result = response.read()\n",
        "    print(result)\n",
        "except urllib.error.HTTPError as error:\n",
        "    print(\"The request failed with status code: \" + str(error.code))\n",
        "\n",
        "    # Print the headers - they include the requert ID and the timestamp, which are useful for debugging the failure\n",
        "    print(error.info())\n",
        "    print(error.read().decode(\"utf8\", 'ignore'))"
      ],
      "outputs": [
        {
          "output_type": "error",
          "ename": "URLError",
          "evalue": "<urlopen error [Errno 110] Connection timed out>",
          "traceback": [
            "\u001b[0;31m---------------------------------------------------------------------------\u001b[0m",
            "\u001b[0;31mTimeoutError\u001b[0m                              Traceback (most recent call last)",
            "File \u001b[0;32m/anaconda/envs/azureml_py38/lib/python3.8/urllib/request.py:1354\u001b[0m, in \u001b[0;36mAbstractHTTPHandler.do_open\u001b[0;34m(self, http_class, req, **http_conn_args)\u001b[0m\n\u001b[1;32m   1353\u001b[0m \u001b[38;5;28;01mtry\u001b[39;00m:\n\u001b[0;32m-> 1354\u001b[0m     \u001b[43mh\u001b[49m\u001b[38;5;241;43m.\u001b[39;49m\u001b[43mrequest\u001b[49m\u001b[43m(\u001b[49m\u001b[43mreq\u001b[49m\u001b[38;5;241;43m.\u001b[39;49m\u001b[43mget_method\u001b[49m\u001b[43m(\u001b[49m\u001b[43m)\u001b[49m\u001b[43m,\u001b[49m\u001b[43m \u001b[49m\u001b[43mreq\u001b[49m\u001b[38;5;241;43m.\u001b[39;49m\u001b[43mselector\u001b[49m\u001b[43m,\u001b[49m\u001b[43m \u001b[49m\u001b[43mreq\u001b[49m\u001b[38;5;241;43m.\u001b[39;49m\u001b[43mdata\u001b[49m\u001b[43m,\u001b[49m\u001b[43m \u001b[49m\u001b[43mheaders\u001b[49m\u001b[43m,\u001b[49m\n\u001b[1;32m   1355\u001b[0m \u001b[43m              \u001b[49m\u001b[43mencode_chunked\u001b[49m\u001b[38;5;241;43m=\u001b[39;49m\u001b[43mreq\u001b[49m\u001b[38;5;241;43m.\u001b[39;49m\u001b[43mhas_header\u001b[49m\u001b[43m(\u001b[49m\u001b[38;5;124;43m'\u001b[39;49m\u001b[38;5;124;43mTransfer-encoding\u001b[39;49m\u001b[38;5;124;43m'\u001b[39;49m\u001b[43m)\u001b[49m\u001b[43m)\u001b[49m\n\u001b[1;32m   1356\u001b[0m \u001b[38;5;28;01mexcept\u001b[39;00m \u001b[38;5;167;01mOSError\u001b[39;00m \u001b[38;5;28;01mas\u001b[39;00m err: \u001b[38;5;66;03m# timeout error\u001b[39;00m\n",
            "File \u001b[0;32m/anaconda/envs/azureml_py38/lib/python3.8/http/client.py:1252\u001b[0m, in \u001b[0;36mHTTPConnection.request\u001b[0;34m(self, method, url, body, headers, encode_chunked)\u001b[0m\n\u001b[1;32m   1251\u001b[0m \u001b[38;5;124;03m\"\"\"Send a complete request to the server.\"\"\"\u001b[39;00m\n\u001b[0;32m-> 1252\u001b[0m \u001b[38;5;28;43mself\u001b[39;49m\u001b[38;5;241;43m.\u001b[39;49m\u001b[43m_send_request\u001b[49m\u001b[43m(\u001b[49m\u001b[43mmethod\u001b[49m\u001b[43m,\u001b[49m\u001b[43m \u001b[49m\u001b[43murl\u001b[49m\u001b[43m,\u001b[49m\u001b[43m \u001b[49m\u001b[43mbody\u001b[49m\u001b[43m,\u001b[49m\u001b[43m \u001b[49m\u001b[43mheaders\u001b[49m\u001b[43m,\u001b[49m\u001b[43m \u001b[49m\u001b[43mencode_chunked\u001b[49m\u001b[43m)\u001b[49m\n",
            "File \u001b[0;32m/anaconda/envs/azureml_py38/lib/python3.8/http/client.py:1298\u001b[0m, in \u001b[0;36mHTTPConnection._send_request\u001b[0;34m(self, method, url, body, headers, encode_chunked)\u001b[0m\n\u001b[1;32m   1297\u001b[0m     body \u001b[38;5;241m=\u001b[39m _encode(body, \u001b[38;5;124m'\u001b[39m\u001b[38;5;124mbody\u001b[39m\u001b[38;5;124m'\u001b[39m)\n\u001b[0;32m-> 1298\u001b[0m \u001b[38;5;28;43mself\u001b[39;49m\u001b[38;5;241;43m.\u001b[39;49m\u001b[43mendheaders\u001b[49m\u001b[43m(\u001b[49m\u001b[43mbody\u001b[49m\u001b[43m,\u001b[49m\u001b[43m \u001b[49m\u001b[43mencode_chunked\u001b[49m\u001b[38;5;241;43m=\u001b[39;49m\u001b[43mencode_chunked\u001b[49m\u001b[43m)\u001b[49m\n",
            "File \u001b[0;32m/anaconda/envs/azureml_py38/lib/python3.8/http/client.py:1247\u001b[0m, in \u001b[0;36mHTTPConnection.endheaders\u001b[0;34m(self, message_body, encode_chunked)\u001b[0m\n\u001b[1;32m   1246\u001b[0m     \u001b[38;5;28;01mraise\u001b[39;00m CannotSendHeader()\n\u001b[0;32m-> 1247\u001b[0m \u001b[38;5;28;43mself\u001b[39;49m\u001b[38;5;241;43m.\u001b[39;49m\u001b[43m_send_output\u001b[49m\u001b[43m(\u001b[49m\u001b[43mmessage_body\u001b[49m\u001b[43m,\u001b[49m\u001b[43m \u001b[49m\u001b[43mencode_chunked\u001b[49m\u001b[38;5;241;43m=\u001b[39;49m\u001b[43mencode_chunked\u001b[49m\u001b[43m)\u001b[49m\n",
            "File \u001b[0;32m/anaconda/envs/azureml_py38/lib/python3.8/http/client.py:1007\u001b[0m, in \u001b[0;36mHTTPConnection._send_output\u001b[0;34m(self, message_body, encode_chunked)\u001b[0m\n\u001b[1;32m   1006\u001b[0m \u001b[38;5;28;01mdel\u001b[39;00m \u001b[38;5;28mself\u001b[39m\u001b[38;5;241m.\u001b[39m_buffer[:]\n\u001b[0;32m-> 1007\u001b[0m \u001b[38;5;28;43mself\u001b[39;49m\u001b[38;5;241;43m.\u001b[39;49m\u001b[43msend\u001b[49m\u001b[43m(\u001b[49m\u001b[43mmsg\u001b[49m\u001b[43m)\u001b[49m\n\u001b[1;32m   1009\u001b[0m \u001b[38;5;28;01mif\u001b[39;00m message_body \u001b[38;5;129;01mis\u001b[39;00m \u001b[38;5;129;01mnot\u001b[39;00m \u001b[38;5;28;01mNone\u001b[39;00m:\n\u001b[1;32m   1010\u001b[0m \n\u001b[1;32m   1011\u001b[0m     \u001b[38;5;66;03m# create a consistent interface to message_body\u001b[39;00m\n",
            "File \u001b[0;32m/anaconda/envs/azureml_py38/lib/python3.8/http/client.py:947\u001b[0m, in \u001b[0;36mHTTPConnection.send\u001b[0;34m(self, data)\u001b[0m\n\u001b[1;32m    946\u001b[0m \u001b[38;5;28;01mif\u001b[39;00m \u001b[38;5;28mself\u001b[39m\u001b[38;5;241m.\u001b[39mauto_open:\n\u001b[0;32m--> 947\u001b[0m     \u001b[38;5;28;43mself\u001b[39;49m\u001b[38;5;241;43m.\u001b[39;49m\u001b[43mconnect\u001b[49m\u001b[43m(\u001b[49m\u001b[43m)\u001b[49m\n\u001b[1;32m    948\u001b[0m \u001b[38;5;28;01melse\u001b[39;00m:\n",
            "File \u001b[0;32m/anaconda/envs/azureml_py38/lib/python3.8/http/client.py:918\u001b[0m, in \u001b[0;36mHTTPConnection.connect\u001b[0;34m(self)\u001b[0m\n\u001b[1;32m    917\u001b[0m \u001b[38;5;124;03m\"\"\"Connect to the host and port specified in __init__.\"\"\"\u001b[39;00m\n\u001b[0;32m--> 918\u001b[0m \u001b[38;5;28mself\u001b[39m\u001b[38;5;241m.\u001b[39msock \u001b[38;5;241m=\u001b[39m \u001b[38;5;28;43mself\u001b[39;49m\u001b[38;5;241;43m.\u001b[39;49m\u001b[43m_create_connection\u001b[49m\u001b[43m(\u001b[49m\n\u001b[1;32m    919\u001b[0m \u001b[43m    \u001b[49m\u001b[43m(\u001b[49m\u001b[38;5;28;43mself\u001b[39;49m\u001b[38;5;241;43m.\u001b[39;49m\u001b[43mhost\u001b[49m\u001b[43m,\u001b[49m\u001b[38;5;28;43mself\u001b[39;49m\u001b[38;5;241;43m.\u001b[39;49m\u001b[43mport\u001b[49m\u001b[43m)\u001b[49m\u001b[43m,\u001b[49m\u001b[43m \u001b[49m\u001b[38;5;28;43mself\u001b[39;49m\u001b[38;5;241;43m.\u001b[39;49m\u001b[43mtimeout\u001b[49m\u001b[43m,\u001b[49m\u001b[43m \u001b[49m\u001b[38;5;28;43mself\u001b[39;49m\u001b[38;5;241;43m.\u001b[39;49m\u001b[43msource_address\u001b[49m\u001b[43m)\u001b[49m\n\u001b[1;32m    920\u001b[0m \u001b[38;5;28mself\u001b[39m\u001b[38;5;241m.\u001b[39msock\u001b[38;5;241m.\u001b[39msetsockopt(socket\u001b[38;5;241m.\u001b[39mIPPROTO_TCP, socket\u001b[38;5;241m.\u001b[39mTCP_NODELAY, \u001b[38;5;241m1\u001b[39m)\n",
            "File \u001b[0;32m/anaconda/envs/azureml_py38/lib/python3.8/socket.py:808\u001b[0m, in \u001b[0;36mcreate_connection\u001b[0;34m(address, timeout, source_address)\u001b[0m\n\u001b[1;32m    807\u001b[0m \u001b[38;5;28;01mtry\u001b[39;00m:\n\u001b[0;32m--> 808\u001b[0m     \u001b[38;5;28;01mraise\u001b[39;00m err\n\u001b[1;32m    809\u001b[0m \u001b[38;5;28;01mfinally\u001b[39;00m:\n\u001b[1;32m    810\u001b[0m     \u001b[38;5;66;03m# Break explicitly a reference cycle\u001b[39;00m\n",
            "File \u001b[0;32m/anaconda/envs/azureml_py38/lib/python3.8/socket.py:796\u001b[0m, in \u001b[0;36mcreate_connection\u001b[0;34m(address, timeout, source_address)\u001b[0m\n\u001b[1;32m    795\u001b[0m     sock\u001b[38;5;241m.\u001b[39mbind(source_address)\n\u001b[0;32m--> 796\u001b[0m \u001b[43msock\u001b[49m\u001b[38;5;241;43m.\u001b[39;49m\u001b[43mconnect\u001b[49m\u001b[43m(\u001b[49m\u001b[43msa\u001b[49m\u001b[43m)\u001b[49m\n\u001b[1;32m    797\u001b[0m \u001b[38;5;66;03m# Break explicitly a reference cycle\u001b[39;00m\n",
            "\u001b[0;31mTimeoutError\u001b[0m: [Errno 110] Connection timed out",
            "\nDuring handling of the above exception, another exception occurred:\n",
            "\u001b[0;31mURLError\u001b[0m                                  Traceback (most recent call last)",
            "Cell \u001b[0;32mIn[23], line 147\u001b[0m\n\u001b[1;32m    144\u001b[0m req \u001b[38;5;241m=\u001b[39m urllib\u001b[38;5;241m.\u001b[39mrequest\u001b[38;5;241m.\u001b[39mRequest(url, body, headers)\n\u001b[1;32m    146\u001b[0m \u001b[38;5;28;01mtry\u001b[39;00m:\n\u001b[0;32m--> 147\u001b[0m     response \u001b[38;5;241m=\u001b[39m \u001b[43murllib\u001b[49m\u001b[38;5;241;43m.\u001b[39;49m\u001b[43mrequest\u001b[49m\u001b[38;5;241;43m.\u001b[39;49m\u001b[43murlopen\u001b[49m\u001b[43m(\u001b[49m\u001b[43mreq\u001b[49m\u001b[43m)\u001b[49m\n\u001b[1;32m    149\u001b[0m     result \u001b[38;5;241m=\u001b[39m response\u001b[38;5;241m.\u001b[39mread()\n\u001b[1;32m    150\u001b[0m     \u001b[38;5;28mprint\u001b[39m(result)\n",
            "File \u001b[0;32m/anaconda/envs/azureml_py38/lib/python3.8/urllib/request.py:222\u001b[0m, in \u001b[0;36murlopen\u001b[0;34m(url, data, timeout, cafile, capath, cadefault, context)\u001b[0m\n\u001b[1;32m    220\u001b[0m \u001b[38;5;28;01melse\u001b[39;00m:\n\u001b[1;32m    221\u001b[0m     opener \u001b[38;5;241m=\u001b[39m _opener\n\u001b[0;32m--> 222\u001b[0m \u001b[38;5;28;01mreturn\u001b[39;00m \u001b[43mopener\u001b[49m\u001b[38;5;241;43m.\u001b[39;49m\u001b[43mopen\u001b[49m\u001b[43m(\u001b[49m\u001b[43murl\u001b[49m\u001b[43m,\u001b[49m\u001b[43m \u001b[49m\u001b[43mdata\u001b[49m\u001b[43m,\u001b[49m\u001b[43m \u001b[49m\u001b[43mtimeout\u001b[49m\u001b[43m)\u001b[49m\n",
            "File \u001b[0;32m/anaconda/envs/azureml_py38/lib/python3.8/urllib/request.py:525\u001b[0m, in \u001b[0;36mOpenerDirector.open\u001b[0;34m(self, fullurl, data, timeout)\u001b[0m\n\u001b[1;32m    522\u001b[0m     req \u001b[38;5;241m=\u001b[39m meth(req)\n\u001b[1;32m    524\u001b[0m sys\u001b[38;5;241m.\u001b[39maudit(\u001b[38;5;124m'\u001b[39m\u001b[38;5;124murllib.Request\u001b[39m\u001b[38;5;124m'\u001b[39m, req\u001b[38;5;241m.\u001b[39mfull_url, req\u001b[38;5;241m.\u001b[39mdata, req\u001b[38;5;241m.\u001b[39mheaders, req\u001b[38;5;241m.\u001b[39mget_method())\n\u001b[0;32m--> 525\u001b[0m response \u001b[38;5;241m=\u001b[39m \u001b[38;5;28;43mself\u001b[39;49m\u001b[38;5;241;43m.\u001b[39;49m\u001b[43m_open\u001b[49m\u001b[43m(\u001b[49m\u001b[43mreq\u001b[49m\u001b[43m,\u001b[49m\u001b[43m \u001b[49m\u001b[43mdata\u001b[49m\u001b[43m)\u001b[49m\n\u001b[1;32m    527\u001b[0m \u001b[38;5;66;03m# post-process response\u001b[39;00m\n\u001b[1;32m    528\u001b[0m meth_name \u001b[38;5;241m=\u001b[39m protocol\u001b[38;5;241m+\u001b[39m\u001b[38;5;124m\"\u001b[39m\u001b[38;5;124m_response\u001b[39m\u001b[38;5;124m\"\u001b[39m\n",
            "File \u001b[0;32m/anaconda/envs/azureml_py38/lib/python3.8/urllib/request.py:542\u001b[0m, in \u001b[0;36mOpenerDirector._open\u001b[0;34m(self, req, data)\u001b[0m\n\u001b[1;32m    539\u001b[0m     \u001b[38;5;28;01mreturn\u001b[39;00m result\n\u001b[1;32m    541\u001b[0m protocol \u001b[38;5;241m=\u001b[39m req\u001b[38;5;241m.\u001b[39mtype\n\u001b[0;32m--> 542\u001b[0m result \u001b[38;5;241m=\u001b[39m \u001b[38;5;28;43mself\u001b[39;49m\u001b[38;5;241;43m.\u001b[39;49m\u001b[43m_call_chain\u001b[49m\u001b[43m(\u001b[49m\u001b[38;5;28;43mself\u001b[39;49m\u001b[38;5;241;43m.\u001b[39;49m\u001b[43mhandle_open\u001b[49m\u001b[43m,\u001b[49m\u001b[43m \u001b[49m\u001b[43mprotocol\u001b[49m\u001b[43m,\u001b[49m\u001b[43m \u001b[49m\u001b[43mprotocol\u001b[49m\u001b[43m \u001b[49m\u001b[38;5;241;43m+\u001b[39;49m\n\u001b[1;32m    543\u001b[0m \u001b[43m                          \u001b[49m\u001b[38;5;124;43m'\u001b[39;49m\u001b[38;5;124;43m_open\u001b[39;49m\u001b[38;5;124;43m'\u001b[39;49m\u001b[43m,\u001b[49m\u001b[43m \u001b[49m\u001b[43mreq\u001b[49m\u001b[43m)\u001b[49m\n\u001b[1;32m    544\u001b[0m \u001b[38;5;28;01mif\u001b[39;00m result:\n\u001b[1;32m    545\u001b[0m     \u001b[38;5;28;01mreturn\u001b[39;00m result\n",
            "File \u001b[0;32m/anaconda/envs/azureml_py38/lib/python3.8/urllib/request.py:502\u001b[0m, in \u001b[0;36mOpenerDirector._call_chain\u001b[0;34m(self, chain, kind, meth_name, *args)\u001b[0m\n\u001b[1;32m    500\u001b[0m \u001b[38;5;28;01mfor\u001b[39;00m handler \u001b[38;5;129;01min\u001b[39;00m handlers:\n\u001b[1;32m    501\u001b[0m     func \u001b[38;5;241m=\u001b[39m \u001b[38;5;28mgetattr\u001b[39m(handler, meth_name)\n\u001b[0;32m--> 502\u001b[0m     result \u001b[38;5;241m=\u001b[39m \u001b[43mfunc\u001b[49m\u001b[43m(\u001b[49m\u001b[38;5;241;43m*\u001b[39;49m\u001b[43margs\u001b[49m\u001b[43m)\u001b[49m\n\u001b[1;32m    503\u001b[0m     \u001b[38;5;28;01mif\u001b[39;00m result \u001b[38;5;129;01mis\u001b[39;00m \u001b[38;5;129;01mnot\u001b[39;00m \u001b[38;5;28;01mNone\u001b[39;00m:\n\u001b[1;32m    504\u001b[0m         \u001b[38;5;28;01mreturn\u001b[39;00m result\n",
            "File \u001b[0;32m/anaconda/envs/azureml_py38/lib/python3.8/urllib/request.py:1383\u001b[0m, in \u001b[0;36mHTTPHandler.http_open\u001b[0;34m(self, req)\u001b[0m\n\u001b[1;32m   1382\u001b[0m \u001b[38;5;28;01mdef\u001b[39;00m \u001b[38;5;21mhttp_open\u001b[39m(\u001b[38;5;28mself\u001b[39m, req):\n\u001b[0;32m-> 1383\u001b[0m     \u001b[38;5;28;01mreturn\u001b[39;00m \u001b[38;5;28;43mself\u001b[39;49m\u001b[38;5;241;43m.\u001b[39;49m\u001b[43mdo_open\u001b[49m\u001b[43m(\u001b[49m\u001b[43mhttp\u001b[49m\u001b[38;5;241;43m.\u001b[39;49m\u001b[43mclient\u001b[49m\u001b[38;5;241;43m.\u001b[39;49m\u001b[43mHTTPConnection\u001b[49m\u001b[43m,\u001b[49m\u001b[43m \u001b[49m\u001b[43mreq\u001b[49m\u001b[43m)\u001b[49m\n",
            "File \u001b[0;32m/anaconda/envs/azureml_py38/lib/python3.8/urllib/request.py:1357\u001b[0m, in \u001b[0;36mAbstractHTTPHandler.do_open\u001b[0;34m(self, http_class, req, **http_conn_args)\u001b[0m\n\u001b[1;32m   1354\u001b[0m         h\u001b[38;5;241m.\u001b[39mrequest(req\u001b[38;5;241m.\u001b[39mget_method(), req\u001b[38;5;241m.\u001b[39mselector, req\u001b[38;5;241m.\u001b[39mdata, headers,\n\u001b[1;32m   1355\u001b[0m                   encode_chunked\u001b[38;5;241m=\u001b[39mreq\u001b[38;5;241m.\u001b[39mhas_header(\u001b[38;5;124m'\u001b[39m\u001b[38;5;124mTransfer-encoding\u001b[39m\u001b[38;5;124m'\u001b[39m))\n\u001b[1;32m   1356\u001b[0m     \u001b[38;5;28;01mexcept\u001b[39;00m \u001b[38;5;167;01mOSError\u001b[39;00m \u001b[38;5;28;01mas\u001b[39;00m err: \u001b[38;5;66;03m# timeout error\u001b[39;00m\n\u001b[0;32m-> 1357\u001b[0m         \u001b[38;5;28;01mraise\u001b[39;00m URLError(err)\n\u001b[1;32m   1358\u001b[0m     r \u001b[38;5;241m=\u001b[39m h\u001b[38;5;241m.\u001b[39mgetresponse()\n\u001b[1;32m   1359\u001b[0m \u001b[38;5;28;01mexcept\u001b[39;00m:\n",
            "\u001b[0;31mURLError\u001b[0m: <urlopen error [Errno 110] Connection timed out>"
          ]
        }
      ],
      "execution_count": 23,
      "metadata": {
        "gather": {
          "logged": 1696509024815
        },
        "jupyter": {
          "outputs_hidden": false,
          "source_hidden": false
        },
        "nteract": {
          "transient": {
            "deleting": false
          }
        }
      }
    },
    {
      "cell_type": "markdown",
      "source": [
        "Unfortunately the AzureML subscription I use does not have public internet access, so I cannot reach the endpoint within this notebook. I have tried in a local python install to launch an inference request to this endpoint, and a result was received successfully.\n",
        "\n",
        "`b'{\"Results\": [42890.21257466434]}'`"
      ],
      "metadata": {
        "nteract": {
          "transient": {
            "deleting": false
          }
        }
      }
    },
    {
      "cell_type": "markdown",
      "source": [
        "TODO: In the cell below, print the logs of the web service and delete the service"
      ],
      "metadata": {
        "collapsed": true,
        "gather": {
          "logged": 1598432765711
        },
        "jupyter": {
          "outputs_hidden": false,
          "source_hidden": false
        },
        "nteract": {
          "transient": {
            "deleting": false
          }
        }
      }
    },
    {
      "cell_type": "code",
      "source": [
        "name = \"barrios-madrid-endpoint\"\n",
        "\n",
        "# load existing web service\n",
        "service = Webservice(name=name, workspace=ws)\n",
        "\n",
        "# enable application insight\n",
        "# service.update(enable_app_insights=True) # already enabled with the GUI\n",
        "\n",
        "logs = service.get_logs()\n",
        "\n",
        "for line in logs.split('\\n'):\n",
        "    print(line)"
      ],
      "outputs": [
        {
          "output_type": "stream",
          "name": "stdout",
          "text": "2023-10-05T12:15:57,860027300+00:00 - rsyslog/run \n2023-10-05T12:15:57,860027400+00:00 - iot-server/run \n2023-10-05T12:15:57,883200700+00:00 - gunicorn/run \n2023-10-05T12:15:57,886615300+00:00 | gunicorn/run | \n2023-10-05T12:15:57,891585300+00:00 | gunicorn/run | ###############################################\n2023-10-05T12:15:57,897506400+00:00 - nginx/run \n2023-10-05T12:15:57,902610100+00:00 | gunicorn/run | AzureML Container Runtime Information\n2023-10-05T12:15:57,911890100+00:00 | gunicorn/run | ###############################################\n2023-10-05T12:15:57,922867500+00:00 | gunicorn/run | \n2023-10-05T12:15:57,940598500+00:00 | gunicorn/run | \n2023-10-05T12:15:57,966285600+00:00 | gunicorn/run | AzureML image information: openmpi4.1.0-ubuntu20.04, Materializaton Build:20230120.v2\n2023-10-05T12:15:57,974097800+00:00 | gunicorn/run | \n2023-10-05T12:15:57,977480200+00:00 | gunicorn/run | \n2023-10-05T12:15:57,983705800+00:00 | gunicorn/run | PATH environment variable: /azureml-envs/azureml_339aac991804a6fc1abdc6b4bd0e857e/bin:/opt/miniconda/bin:/usr/local/sbin:/usr/local/bin:/usr/sbin:/usr/bin:/sbin:/bin\n2023-10-05T12:15:57,988754800+00:00 | gunicorn/run | PYTHONPATH environment variable: \n2023-10-05T12:15:57,991542200+00:00 | gunicorn/run | \n2023-10-05T12:15:57,996059200+00:00 | gunicorn/run | Pip Dependencies (before dynamic installation)\n\nEdgeHubConnectionString and IOTEDGE_IOTHUBHOSTNAME are not set. Exiting...\n2023-10-05T12:15:58,370779900+00:00 - iot-server/finish 1 0\n2023-10-05T12:15:58,375909000+00:00 - Exit code 1 is normal. Not restarting iot-server.\nadal==1.2.7\nappdirs @ file:///home/conda/feedstock_root/build_artifacts/appdirs_1603108395799/work\napplicationinsights==0.11.10\nargcomplete==2.0.0\narviz @ file:///home/conda/feedstock_root/build_artifacts/arviz_1666645025910/work\nasttokens==2.2.1\nattrs==22.2.0\nazure-common==1.1.28\nazure-core==1.26.2\nazure-graphrbac==0.61.1\nazure-identity==1.12.0\nazure-mgmt-authorization==3.0.0\nazure-mgmt-containerregistry==10.0.0\nazure-mgmt-core==1.3.2\nazure-mgmt-keyvault==10.1.0\nazure-mgmt-resource==21.2.1\nazure-mgmt-storage==20.1.0\nazure-storage-blob==12.13.0\nazure-storage-queue==12.5.0\nazureml-automl-core==1.48.0\nazureml-automl-runtime==1.48.0.post2\nazureml-core==1.48.0\nazureml-dataprep==4.8.6\nazureml-dataprep-native==38.0.0\nazureml-dataprep-rslex==2.15.2\nazureml-dataset-runtime==1.48.0\nazureml-defaults==1.48.0\nazureml-inference-server-http==0.7.7\nazureml-interpret==1.48.0\nazureml-mlflow==1.48.0\nazureml-pipeline-core==1.48.0\nazureml-responsibleai==1.48.0\nazureml-telemetry==1.48.0\nazureml-train-automl-client==1.48.0\nazureml-train-automl-runtime==1.48.0.post2\nazureml-train-core==1.48.0\nazureml-train-restclients-hyperdrive==1.48.0\nazureml-training-tabular==1.48.0\nbackcall==0.2.0\nbackports.tempfile==1.0\nbackports.weakref==1.0.post1\nbcrypt==4.0.1\nblinker @ file:///home/conda/feedstock_root/build_artifacts/blinker_1664823096650/work\nbokeh==2.4.3\nboto==2.49.0\nboto3 @ file:///home/conda/feedstock_root/build_artifacts/boto3_1602889982367/work\nbotocore @ file:///home/conda/feedstock_root/build_artifacts/botocore_1602884371056/work\nbrotlipy @ file:///home/conda/feedstock_root/build_artifacts/brotlipy_1666764652625/work\ncachetools==5.3.0\ncertifi==2022.12.7\ncffi @ file:///home/conda/feedstock_root/build_artifacts/cffi_1671179356964/work\ncftime @ file:///home/conda/feedstock_root/build_artifacts/cftime_1666833813766/work\ncharset-normalizer @ file:///home/conda/feedstock_root/build_artifacts/charset-normalizer_1661170624537/work\nclick @ file:///home/conda/feedstock_root/build_artifacts/click_1645238082580/work\ncloudpickle @ file:///home/conda/feedstock_root/build_artifacts/cloudpickle_1598400192773/work\ncolorama @ file:///home/conda/feedstock_root/build_artifacts/colorama_1666700638685/work\nconfigparser @ file:///home/conda/feedstock_root/build_artifacts/configparser_1660952164778/work\ncontextlib2==21.6.0\ncontourpy @ file:///home/conda/feedstock_root/build_artifacts/contourpy_1673633650729/work\nconvertdate @ file:///home/conda/feedstock_root/build_artifacts/convertdate_1642883757836/work\ncryptography @ file:///home/conda/feedstock_root/build_artifacts/cryptography-split_1672672382550/work\ncycler @ file:///home/conda/feedstock_root/build_artifacts/cycler_1635519461629/work\nCython==0.29.17\ndask==2021.6.0\ndatabricks-cli @ file:///home/conda/feedstock_root/build_artifacts/databricks-cli_1670623174375/work\ndataclasses==0.6\ndebugpy==1.6.6\ndecorator==5.1.1\ndice-ml==0.9\ndill==0.3.6\ndistributed==2021.6.0\ndistro==1.8.0\ndocker==6.0.1\ndotnetcore2==3.1.23\neconml==0.14.0\nentrypoints @ file:///home/conda/feedstock_root/build_artifacts/entrypoints_1643888246732/work\nephem @ file:///home/conda/feedstock_root/build_artifacts/ephem_1671669584328/work\nerroranalysis==0.4.0\nexecuting==1.2.0\nfairlearn==0.8.0\nfbprophet @ file:///home/conda/feedstock_root/build_artifacts/fbprophet_1599365532360/work\nfire==0.5.0\nFlask==2.2.2\nFlask-Cors==3.0.10\nflatbuffers==23.1.21\nfonttools @ file:///home/conda/feedstock_root/build_artifacts/fonttools_1666827142353/work\nfsspec==2023.1.0\ngensim==3.8.3\ngitdb @ file:///home/conda/feedstock_root/build_artifacts/gitdb_1669279893622/work\nGitPython @ file:///home/conda/feedstock_root/build_artifacts/gitpython_1672338156505/work\ngoogle-api-core==2.11.0\ngoogle-auth==2.16.0\ngoogleapis-common-protos==1.58.0\ngunicorn==20.1.0\nh5py==3.8.0\nHeapDict==1.0.1\nholidays @ file:///home/conda/feedstock_root/build_artifacts/holidays_1595448845196/work\nhumanfriendly==10.0\nidna @ file:///home/conda/feedstock_root/build_artifacts/idna_1663625384323/work\nimportlib-metadata @ file:///home/conda/feedstock_root/build_artifacts/importlib-metadata_1671416996338/work\nimportlib-resources==5.10.2\ninference-schema==1.5.1\ninterpret-community==0.27.0\ninterpret-core==0.2.7\nipykernel==6.6.0\nipython==8.9.0\nisodate==0.6.1\nitsdangerous==2.1.2\njedi==0.18.2\njeepney==0.8.0\nJinja2==3.1.2\njmespath @ file:///home/conda/feedstock_root/build_artifacts/jmespath_1589369830981/work\njoblib @ file:///home/conda/feedstock_root/build_artifacts/joblib_1589548394565/work\njsonpickle==2.2.0\njsonschema==4.17.3\njupyter-client==7.4.9\njupyter-core==5.2.0\nkeras2onnx==1.6.0\nkiwisolver @ file:///home/conda/feedstock_root/build_artifacts/kiwisolver_1666805766046/work\nknack==0.10.1\nkorean-lunar-calendar @ file:///home/conda/feedstock_root/build_artifacts/korean_lunar_calendar_1663341251025/work\nlightgbm==3.2.1\nllvmlite==0.38.1\nlocket==1.0.0\nLunarCalendar==0.0.9\nMarkupSafe==2.0.1\nmatplotlib @ file:///home/conda/feedstock_root/build_artifacts/matplotlib-suite_1674078821358/work\nmatplotlib-inline==0.1.6\nml-wrappers==0.2.2\nmlflow-skinny @ file:///home/conda/feedstock_root/build_artifacts/mlflow-split_1666367445718/work\nmpi4py==3.1.3\nmsal==1.20.0\nmsal-extensions==1.0.0\nmsgpack==1.0.4\nmsrest==0.7.1\nmsrestazure==0.6.4\nmunkres==1.1.4\nndg-httpsclient==0.5.1\nnest-asyncio==1.5.6\nnetCDF4 @ file:///home/conda/feedstock_root/build_artifacts/netcdf4_1668678829651/work\nnetworkx==2.5\nnimbusml==1.8.0\nnumba==0.55.2\nnumpy @ file:///home/conda/feedstock_root/build_artifacts/numpy_1649806303867/work\noauthlib @ file:///home/conda/feedstock_root/build_artifacts/oauthlib_1666056362788/work\nonnx==1.12.0\nonnxconverter-common==1.6.0\nonnxmltools==1.4.1\nonnxruntime==1.11.1\nopencensus==0.11.1\nopencensus-context==0.1.3\nopencensus-ext-azure==1.1.8\npackaging @ file:///home/conda/feedstock_root/build_artifacts/packaging_1637239678211/work\npandas==1.1.5\nparamiko==2.12.0\nparso==0.8.3\npartd==1.3.0\npathspec==0.11.0\npatsy==0.5.3\npexpect==4.8.0\npickleshare==0.7.5\nPillow @ file:///home/conda/feedstock_root/build_artifacts/pillow_1672675296857/work\npkginfo==1.9.6\npkgutil-resolve-name==1.3.10\nplatformdirs==2.6.2\npmdarima==1.7.1\npooch @ file:///home/conda/feedstock_root/build_artifacts/pooch_1643032624649/work\nportalocker==2.7.0\nprompt-toolkit==3.0.36\nprotobuf==3.20.1\npsutil @ file:///home/conda/feedstock_root/build_artifacts/psutil_1667885878918/work\nptyprocess==0.7.0\npure-eval==0.2.2\npy-cpuinfo==5.0.0\npyarrow==9.0.0\npyasn1==0.4.8\npyasn1-modules==0.2.8\npycparser @ file:///home/conda/feedstock_root/build_artifacts/pycparser_1636257122734/work\nPygments==2.14.0\nPyJWT @ file:///home/conda/feedstock_root/build_artifacts/pyjwt_1666240235902/work\nPyMeeus @ file:///home/conda/feedstock_root/build_artifacts/pymeeus_1670868433998/work\nPyNaCl==1.5.0\npyOpenSSL==22.1.0\npyparsing @ file:///home/conda/feedstock_root/build_artifacts/pyparsing_1652235407899/work\npyrsistent==0.19.3\nPySocks @ file:///home/conda/feedstock_root/build_artifacts/pysocks_1661604839144/work\npystan @ file:///home/conda/feedstock_root/build_artifacts/pystan_1598392747715/work\npython-dateutil @ file:///home/conda/feedstock_root/build_artifacts/python-dateutil_1626286286081/work\npytz @ file:///home/conda/feedstock_root/build_artifacts/pytz_1673864280276/work\nPyYAML @ file:///home/conda/feedstock_root/build_artifacts/pyyaml_1666772387080/work\npyzmq==25.0.0\nraiutils==0.3.0\nrequests @ file:///home/conda/feedstock_root/build_artifacts/requests_1673863902341/work\nrequests-oauthlib==1.3.1\nresponsibleai==0.23.0\nrsa==4.9\ns3transfer @ file:///home/conda/feedstock_root/build_artifacts/s3transfer_1618355402893/work\nscikit-learn==0.22.1\nscipy==1.5.3\nSecretStorage==3.3.3\nsemver==2.13.0\nsetuptools-git==1.2\nshap==0.39.0\nsix @ file:///home/conda/feedstock_root/build_artifacts/six_1620240208055/work\nskl2onnx==1.4.9\nsklearn-pandas==1.7.0\nslicer==0.0.7\nsmart-open==1.9.0\nsmmap @ file:///home/conda/feedstock_root/build_artifacts/smmap_1611376390914/work\nsortedcontainers==2.4.0\nsparse==0.13.0\nsqlparse @ file:///home/conda/feedstock_root/build_artifacts/sqlparse_1663990453245/work\nstack-data==0.6.2\nstatsmodels==0.11.1\ntabulate @ file:///home/conda/feedstock_root/build_artifacts/tabulate_1665138452165/work\ntblib==1.7.0\ntermcolor==2.2.0\ntoolz==0.12.0\ntornado==6.2\ntqdm @ file:///home/conda/feedstock_root/build_artifacts/tqdm_1662214488106/work\ntraitlets==5.9.0\ntyping-extensions @ file:///home/conda/feedstock_root/build_artifacts/typing_extensions_1665144421445/work\nunicodedata2 @ file:///home/conda/feedstock_root/build_artifacts/unicodedata2_1667239955025/work\nurllib3 @ file:///home/conda/feedstock_root/build_artifacts/urllib3_1603125704209/work\nwcwidth==0.2.6\nwebsocket-client==1.5.0\nWerkzeug==2.2.2\nwrapt==1.12.1\nxarray @ file:///home/conda/feedstock_root/build_artifacts/xarray_1658533631249/work\nxarray-einstats @ file:///home/conda/feedstock_root/build_artifacts/xarray-einstats_1673917909214/work\nxgboost==1.3.3\nzict==2.2.0\nzipp @ file:///home/conda/feedstock_root/build_artifacts/zipp_1674910338934/work\n\n2023-10-05T12:15:59,520868900+00:00 | gunicorn/run | \n2023-10-05T12:15:59,523064900+00:00 | gunicorn/run | ###############################################\n2023-10-05T12:15:59,525408900+00:00 | gunicorn/run | AzureML Inference Server\n2023-10-05T12:15:59,528942500+00:00 | gunicorn/run | ###############################################\n2023-10-05T12:15:59,530957700+00:00 | gunicorn/run | \n2023-10-05T12:16:02,122687398+00:00 | gunicorn/run | Starting AzureML Inference Server HTTP.\nValid Application Insights instrumentation key provided.\n\nAzure ML Inferencing HTTP server v0.7.7\n\n\nServer Settings\n---------------\nEntry Script Name: /var/azureml-app/main.py\nModel Directory: /var/azureml-app/azureml-models/AutoMLa8b0dd36729/4\nWorker Count: 1\nWorker Timeout (seconds): 300\nServer Port: 31311\nApplication Insights Enabled: true\nApplication Insights Key: AppInsights key provided\nInferencing HTTP server version: azmlinfsrv/0.7.7\nCORS for the specified origins: None\n\n\nServer Routes\n---------------\nLiveness Probe: GET   127.0.0.1:31311/\nScore:          POST  127.0.0.1:31311/score\n\nStarting gunicorn 20.1.0\nListening at: http://0.0.0.0:31311 (71)\nUsing worker: sync\nBooting worker with pid: 134\nInitializing logger\n2023-10-05 12:16:03,555 | root | INFO | Starting up app insights client\nDeprecationWarning: Explicitly using instrumentation key isdeprecated. Please use a connection string instead.\nDeprecationWarning: Explicitly using instrumentation key isdeprecated. Please use a connection string instead.\nDeprecationWarning: Explicitly using instrumentation key isdeprecated. Please use a connection string instead.\nlogging socket was found. logging is available.\nlogging socket was found. logging is available.\n2023-10-05 12:16:09,236 | root | INFO | Starting up app insight hooks\n2023-10-05 12:16:10,565 | root | INFO | Found user script at /var/azureml-app/main.py\n2023-10-05 12:16:10,566 | root | INFO | run() is decorated with @input_schema. Server will invoke it with the following arguments: Inputs, GlobalParameters.\n2023-10-05 12:16:10,566 | root | INFO | Invoking user's init function\ngenerated new fontManager\nImporting plotly failed. Interactive plots will not work.\n2023-10-05 12:16:20,242 | azureml.core | WARNING | Failure while loading azureml_run_type_providers. Failed to load entrypoint azureml.scriptrun = azureml.core.script_run:ScriptRun._from_run_dto with exception (urllib3 1.25.11 (/azureml-envs/azureml_339aac991804a6fc1abdc6b4bd0e857e/lib/python3.8/site-packages), Requirement.parse('urllib3>=1.26.0'), {'docker'}).\nFailure while loading azureml_run_type_providers. Failed to load entrypoint azureml.scriptrun = azureml.core.script_run:ScriptRun._from_run_dto with exception (urllib3 1.25.11 (/azureml-envs/azureml_339aac991804a6fc1abdc6b4bd0e857e/lib/python3.8/site-packages), Requirement.parse('urllib3>=1.26.0'), {'docker'}).\n2023-10-05 12:16:20,253 | azureml.core | WARNING | Failure while loading azureml_run_type_providers. Failed to load entrypoint azureml.PipelineRun = azureml.pipeline.core.run:PipelineRun._from_dto with exception (urllib3 1.25.11 (/azureml-envs/azureml_339aac991804a6fc1abdc6b4bd0e857e/lib/python3.8/site-packages), Requirement.parse('urllib3>=1.26.0'), {'docker'}).\nFailure while loading azureml_run_type_providers. Failed to load entrypoint azureml.PipelineRun = azureml.pipeline.core.run:PipelineRun._from_dto with exception (urllib3 1.25.11 (/azureml-envs/azureml_339aac991804a6fc1abdc6b4bd0e857e/lib/python3.8/site-packages), Requirement.parse('urllib3>=1.26.0'), {'docker'}).\n2023-10-05 12:16:20,270 | azureml.core | WARNING | Failure while loading azureml_run_type_providers. Failed to load entrypoint azureml.ReusedStepRun = azureml.pipeline.core.run:StepRun._from_reused_dto with exception (urllib3 1.25.11 (/azureml-envs/azureml_339aac991804a6fc1abdc6b4bd0e857e/lib/python3.8/site-packages), Requirement.parse('urllib3>=1.26.0'), {'docker'}).\nFailure while loading azureml_run_type_providers. Failed to load entrypoint azureml.ReusedStepRun = azureml.pipeline.core.run:StepRun._from_reused_dto with exception (urllib3 1.25.11 (/azureml-envs/azureml_339aac991804a6fc1abdc6b4bd0e857e/lib/python3.8/site-packages), Requirement.parse('urllib3>=1.26.0'), {'docker'}).\n2023-10-05 12:16:20,286 | azureml.core | WARNING | Failure while loading azureml_run_type_providers. Failed to load entrypoint azureml.StepRun = azureml.pipeline.core.run:StepRun._from_dto with exception (urllib3 1.25.11 (/azureml-envs/azureml_339aac991804a6fc1abdc6b4bd0e857e/lib/python3.8/site-packages), Requirement.parse('urllib3>=1.26.0'), {'docker'}).\nFailure while loading azureml_run_type_providers. Failed to load entrypoint azureml.StepRun = azureml.pipeline.core.run:StepRun._from_dto with exception (urllib3 1.25.11 (/azureml-envs/azureml_339aac991804a6fc1abdc6b4bd0e857e/lib/python3.8/site-packages), Requirement.parse('urllib3>=1.26.0'), {'docker'}).\n2023-10-05 12:16:20,344 | azureml.core | WARNING | Failure while loading azureml_run_type_providers. Failed to load entrypoint automl = azureml.train.automl.run:AutoMLRun._from_run_dto with exception (urllib3 1.25.11 (/azureml-envs/azureml_339aac991804a6fc1abdc6b4bd0e857e/lib/python3.8/site-packages), Requirement.parse('urllib3>=1.26.0'), {'docker'}).\nFailure while loading azureml_run_type_providers. Failed to load entrypoint automl = azureml.train.automl.run:AutoMLRun._from_run_dto with exception (urllib3 1.25.11 (/azureml-envs/azureml_339aac991804a6fc1abdc6b4bd0e857e/lib/python3.8/site-packages), Requirement.parse('urllib3>=1.26.0'), {'docker'}).\n2023-10-05 12:16:20,365 | azureml.core | WARNING | Failure while loading azureml_run_type_providers. Failed to load entrypoint hyperdrive = azureml.train.hyperdrive:HyperDriveRun._from_run_dto with exception (urllib3 1.25.11 (/azureml-envs/azureml_339aac991804a6fc1abdc6b4bd0e857e/lib/python3.8/site-packages), Requirement.parse('urllib3>=1.26.0'), {'docker'}).\nFailure while loading azureml_run_type_providers. Failed to load entrypoint hyperdrive = azureml.train.hyperdrive:HyperDriveRun._from_run_dto with exception (urllib3 1.25.11 (/azureml-envs/azureml_339aac991804a6fc1abdc6b4bd0e857e/lib/python3.8/site-packages), Requirement.parse('urllib3>=1.26.0'), {'docker'}).\n2023-10-05 12:16:22,348 | root | INFO | Users's init has completed successfully\n2023-10-05 12:16:22,350 | root | INFO | Swaggers are prepared for the following versions: [2, 3].\n2023-10-05 12:16:22,350 | root | INFO | Scoring timeout is found from os.environ: 60000 ms\n2023-10-05 12:16:22,352 | root | INFO | AML_FLASK_ONE_COMPATIBILITY is set. Patched Flask to ensure compatibility with Flask 1.\n2023-10-05 12:16:22,369 | root | INFO | 200\n127.0.0.1 - - [05/Oct/2023:12:16:22 +0000] \"GET /swagger.json HTTP/1.0\" 200 24695 \"-\" \"Go-http-client/1.1\"\n2023-10-05 12:17:19,357 | root | INFO | 200\n127.0.0.1 - - [05/Oct/2023:12:17:19 +0000] \"GET /swagger.json HTTP/1.0\" 200 24695 \"-\" \"Go-http-client/1.1\"\n2023-10-05 12:17:24,780 | root | INFO | 200\n127.0.0.1 - - [05/Oct/2023:12:17:24 +0000] \"GET /swagger.json HTTP/1.0\" 200 24695 \"-\" \"Go-http-client/1.1\"\n2023-10-05 12:36:51,122 | root | INFO | 200\n127.0.0.1 - - [05/Oct/2023:12:36:51 +0000] \"POST /score HTTP/1.0\" 200 32 \"-\" \"Python-urllib/3.9\"\n2023-10-05 12:45:20,447 | root | INFO | 200\n127.0.0.1 - - [05/Oct/2023:12:45:20 +0000] \"GET /swagger.json HTTP/1.0\" 200 24695 \"-\" \"Go-http-client/1.1\"\n\n"
        }
      ],
      "execution_count": 26,
      "metadata": {
        "jupyter": {
          "outputs_hidden": false,
          "source_hidden": false
        },
        "nteract": {
          "transient": {
            "deleting": false
          }
        },
        "gather": {
          "logged": 1696509921433
        }
      }
    },
    {
      "cell_type": "markdown",
      "source": [
        "**Submission Checklist**\n",
        "- I have registered the model.\n",
        "- I have deployed the model with the best accuracy as a webservice.\n",
        "- I have tested the webservice by sending a request to the model endpoint.\n",
        "- I have deleted the webservice and shutdown all the computes that I have used.\n",
        "- I have taken a screenshot showing the model endpoint as active.\n",
        "- The project includes a file containing the environment details.\n"
      ],
      "metadata": {}
    },
    {
      "cell_type": "markdown",
      "source": [],
      "metadata": {}
    }
  ],
  "metadata": {
    "kernel_info": {
      "name": "python38-azureml"
    },
    "kernelspec": {
      "name": "python38-azureml",
      "language": "python",
      "display_name": "Python 3.8 - AzureML"
    },
    "language_info": {
      "name": "python",
      "version": "3.8.10",
      "mimetype": "text/x-python",
      "codemirror_mode": {
        "name": "ipython",
        "version": 3
      },
      "pygments_lexer": "ipython3",
      "nbconvert_exporter": "python",
      "file_extension": ".py"
    },
    "nteract": {
      "version": "nteract-front-end@1.0.0"
    },
    "microsoft": {
      "host": {
        "AzureML": {
          "notebookHasBeenCompleted": true
        }
      },
      "ms_spell_check": {
        "ms_spell_check_language": "en"
      }
    }
  },
  "nbformat": 4,
  "nbformat_minor": 2
}