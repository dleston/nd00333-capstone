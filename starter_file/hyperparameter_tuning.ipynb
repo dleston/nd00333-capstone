{
  "cells": [
    {
      "cell_type": "markdown",
      "source": [
        "# Hyperparameter Tuning using HyperDrive\n",
        "\n",
        "TODO: Import Dependencies. In the cell below, import all the dependencies that you will need to complete the project."
      ],
      "metadata": {}
    },
    {
      "cell_type": "code",
      "source": [
        "from azureml.core import Workspace, Dataset, Experiment, Environment, ScriptRunConfig\n",
        "from azureml.core.webservice import Webservice\n",
        "from azureml.core.compute import ComputeTarget, AmlCompute\n",
        "from azureml.train.hyperdrive import RandomParameterSampling, BanditPolicy, HyperDriveConfig, PrimaryMetricGoal\n",
        "from azureml.train.hyperdrive import choice, uniform\n",
        "from azureml.widgets import RunDetails\n",
        "\n",
        "import logging\n",
        "import joblib\n"
      ],
      "outputs": [],
      "execution_count": 1,
      "metadata": {
        "gather": {
          "logged": 1696945359441
        }
      }
    },
    {
      "cell_type": "markdown",
      "source": [
        "## Dataset\n",
        "\n",
        "TODO: Get data. In the cell below, write code to access the data you will be using in this project. Remember that the dataset needs to be external."
      ],
      "metadata": {}
    },
    {
      "cell_type": "code",
      "source": [
        "subscription_id = '9a8ef160-b36c-4d1c-95d2-b381d53baaa3'\n",
        "resource_group = 'rg-bigdatanetworks-uad-pro'\n",
        "workspace_name = 'aml-BigDataNetworksuad-pro'\n",
        "\n",
        "ws = Workspace(subscription_id, resource_group, workspace_name)\n",
        "\n",
        "experiment_name = 'hyperdrive-barrios-madrid'\n",
        "\n",
        "experiment=Experiment(ws, experiment_name)\n",
        "\n",
        "dataset = Dataset.get_by_name(ws, name='panel_indicadores_distritos_barrios_2022')\n",
        "df = dataset.to_pandas_dataframe()\n",
        "df.head(5)"
      ],
      "outputs": [
        {
          "output_type": "execute_result",
          "execution_count": 2,
          "data": {
            "text/plain": "   Barrio  Año medio de contrucción de inmuebles de uso residencial  \\\n0      11                                               1928          \n1      12                                               1927          \n2      13                                               1923          \n3      14                                               1929          \n4      15                                               1930          \n\n   Apartamentos Municipales para Mayores  Asociaciones (Sección 1ª)  \\\n0                                      1                         49   \n1                                      0                         98   \n2                                      0                         31   \n3                                      0                         36   \n4                                      0                         46   \n\n   Asociaciones culturales y casas regionales  Asociaciones de mujeres  \\\n0                                          22                        2   \n1                                          28                        4   \n2                                          10                        1   \n3                                          10                        4   \n4                                          16                        1   \n\n   Asociaciones vecinales  Bibliotecas Comunidad Madrid  \\\n0                       1                             0   \n1                       9                             1   \n2                       1                             0   \n3                       1                             0   \n4                       2                             0   \n\n   Bibliotecas Municipales  Campos de fútbol 11  ...  \\\n0                        1                    0  ...   \n1                        0                    0  ...   \n2                        0                    0  ...   \n3                        1                    0  ...   \n4                        1                    0  ...   \n\n   Tasa absoluta de paro registrado Mujeres  Tasa bruta de natalidad (‰)  \\\n0                                      7.24                          6.4   \n1                                      8.29                          6.3   \n2                                      5.93                          5.9   \n3                                      5.26                          6.8   \n4                                      6.32                          5.6   \n\n   Tasa de crecimiento demográfico (porcentaje)  \\\n0                                           0.0   \n1                                           0.4   \n2                                           0.2   \n3                                           1.0   \n4                                           0.0   \n\n   Tasa de desempleo en hombres de 16 a 24 años  \\\n0                                          3.00   \n1                                          3.71   \n2                                          0.90   \n3                                          1.28   \n4                                          2.63   \n\n   Tasa de desempleo en hombres de 25 a 44 años  \\\n0                                          5.01   \n1                                          5.31   \n2                                          3.45   \n3                                          3.76   \n4                                          4.57   \n\n   Tasa de desempleo en hombres de 45 a 64 años  \\\n0                                         11.38   \n1                                         10.54   \n2                                          8.73   \n3                                          9.13   \n4                                          9.34   \n\n   Tasa de desempleo en mujeres de 16 a 24 años  \\\n0                                          1.48   \n1                                          4.23   \n2                                          0.79   \n3                                          0.64   \n4                                          1.20   \n\n   Tasa de desempleo en mujeres de 25 a 44 años  \\\n0                                          6.28   \n1                                          6.96   \n2                                          4.91   \n3                                          3.56   \n4                                          4.59   \n\n   Tasa de desempleo en mujeres de 45 a 64 años  Total hogares  \n0                                          9.96          11613  \n1                                         11.46          22614  \n2                                          8.78           5488  \n3                                          8.85           8927  \n4                                         10.36          16967  \n\n[5 rows x 106 columns]",
            "text/html": "<div>\n<style scoped>\n    .dataframe tbody tr th:only-of-type {\n        vertical-align: middle;\n    }\n\n    .dataframe tbody tr th {\n        vertical-align: top;\n    }\n\n    .dataframe thead th {\n        text-align: right;\n    }\n</style>\n<table border=\"1\" class=\"dataframe\">\n  <thead>\n    <tr style=\"text-align: right;\">\n      <th></th>\n      <th>Barrio</th>\n      <th>Año medio de contrucción de inmuebles de uso residencial</th>\n      <th>Apartamentos Municipales para Mayores</th>\n      <th>Asociaciones (Sección 1ª)</th>\n      <th>Asociaciones culturales y casas regionales</th>\n      <th>Asociaciones de mujeres</th>\n      <th>Asociaciones vecinales</th>\n      <th>Bibliotecas Comunidad Madrid</th>\n      <th>Bibliotecas Municipales</th>\n      <th>Campos de fútbol 11</th>\n      <th>...</th>\n      <th>Tasa absoluta de paro registrado Mujeres</th>\n      <th>Tasa bruta de natalidad (‰)</th>\n      <th>Tasa de crecimiento demográfico (porcentaje)</th>\n      <th>Tasa de desempleo en hombres de 16 a 24 años</th>\n      <th>Tasa de desempleo en hombres de 25 a 44 años</th>\n      <th>Tasa de desempleo en hombres de 45 a 64 años</th>\n      <th>Tasa de desempleo en mujeres de 16 a 24 años</th>\n      <th>Tasa de desempleo en mujeres de 25 a 44 años</th>\n      <th>Tasa de desempleo en mujeres de 45 a 64 años</th>\n      <th>Total hogares</th>\n    </tr>\n  </thead>\n  <tbody>\n    <tr>\n      <th>0</th>\n      <td>11</td>\n      <td>1928</td>\n      <td>1</td>\n      <td>49</td>\n      <td>22</td>\n      <td>2</td>\n      <td>1</td>\n      <td>0</td>\n      <td>1</td>\n      <td>0</td>\n      <td>...</td>\n      <td>7.24</td>\n      <td>6.4</td>\n      <td>0.0</td>\n      <td>3.00</td>\n      <td>5.01</td>\n      <td>11.38</td>\n      <td>1.48</td>\n      <td>6.28</td>\n      <td>9.96</td>\n      <td>11613</td>\n    </tr>\n    <tr>\n      <th>1</th>\n      <td>12</td>\n      <td>1927</td>\n      <td>0</td>\n      <td>98</td>\n      <td>28</td>\n      <td>4</td>\n      <td>9</td>\n      <td>1</td>\n      <td>0</td>\n      <td>0</td>\n      <td>...</td>\n      <td>8.29</td>\n      <td>6.3</td>\n      <td>0.4</td>\n      <td>3.71</td>\n      <td>5.31</td>\n      <td>10.54</td>\n      <td>4.23</td>\n      <td>6.96</td>\n      <td>11.46</td>\n      <td>22614</td>\n    </tr>\n    <tr>\n      <th>2</th>\n      <td>13</td>\n      <td>1923</td>\n      <td>0</td>\n      <td>31</td>\n      <td>10</td>\n      <td>1</td>\n      <td>1</td>\n      <td>0</td>\n      <td>0</td>\n      <td>0</td>\n      <td>...</td>\n      <td>5.93</td>\n      <td>5.9</td>\n      <td>0.2</td>\n      <td>0.90</td>\n      <td>3.45</td>\n      <td>8.73</td>\n      <td>0.79</td>\n      <td>4.91</td>\n      <td>8.78</td>\n      <td>5488</td>\n    </tr>\n    <tr>\n      <th>3</th>\n      <td>14</td>\n      <td>1929</td>\n      <td>0</td>\n      <td>36</td>\n      <td>10</td>\n      <td>4</td>\n      <td>1</td>\n      <td>0</td>\n      <td>1</td>\n      <td>0</td>\n      <td>...</td>\n      <td>5.26</td>\n      <td>6.8</td>\n      <td>1.0</td>\n      <td>1.28</td>\n      <td>3.76</td>\n      <td>9.13</td>\n      <td>0.64</td>\n      <td>3.56</td>\n      <td>8.85</td>\n      <td>8927</td>\n    </tr>\n    <tr>\n      <th>4</th>\n      <td>15</td>\n      <td>1930</td>\n      <td>0</td>\n      <td>46</td>\n      <td>16</td>\n      <td>1</td>\n      <td>2</td>\n      <td>0</td>\n      <td>1</td>\n      <td>0</td>\n      <td>...</td>\n      <td>6.32</td>\n      <td>5.6</td>\n      <td>0.0</td>\n      <td>2.63</td>\n      <td>4.57</td>\n      <td>9.34</td>\n      <td>1.20</td>\n      <td>4.59</td>\n      <td>10.36</td>\n      <td>16967</td>\n    </tr>\n  </tbody>\n</table>\n<p>5 rows × 106 columns</p>\n</div>"
          },
          "metadata": {}
        }
      ],
      "execution_count": 2,
      "metadata": {
        "gather": {
          "logged": 1696945367452
        },
        "jupyter": {
          "outputs_hidden": false,
          "source_hidden": false
        },
        "nteract": {
          "transient": {
            "deleting": false
          }
        }
      }
    },
    {
      "cell_type": "markdown",
      "source": [
        "## Hyperdrive Configuration\n",
        "\n",
        "TODO: Explain the model you are using and the reason for chosing the different hyperparameters, termination policy and config settings."
      ],
      "metadata": {
        "collapsed": true,
        "gather": {
          "logged": 1598531923519
        },
        "jupyter": {
          "outputs_hidden": false,
          "source_hidden": false
        },
        "nteract": {
          "transient": {
            "deleting": false
          }
        }
      }
    },
    {
      "cell_type": "code",
      "source": [
        "# TODO: Create an early termination policy. This is not required if you are using Bayesian sampling.\n",
        "early_termination_policy = BanditPolicy(evaluation_interval=2,\n",
        "                                        slack_factor=0.1,\n",
        "                                        delay_evaluation=5)\n",
        "\n",
        "#TODO: Create the different params that you will be using during training\n",
        "param_sampling = RandomParameterSampling({\n",
        "    'max_depth': choice(5, 10, 15, 20, 25),\n",
        "    'min_samples_split': uniform(0.001, 0.5),\n",
        "    'min_samples_leaf': uniform(0.001, 0.5)\n",
        "})\n",
        "\n",
        "# Setup environment for your training run\n",
        "sklearn_env = Environment.from_conda_specification(name='sklearn-env', file_path='conda_dependencies.yaml')\n",
        "\n",
        "#TODO: Create your estimator and hyperdrive config\n",
        "src = ScriptRunConfig(source_directory='.', script='train.py',\n",
        "                      arguments=['--max_depth', 15, '--min_samples_split', 0.1, '--min_samples_leaf', 0.1],\n",
        "                      compute_target=ComputeTarget(workspace=ws, name='U329114DS4v2pro'),\n",
        "                      environment=sklearn_env)\n",
        "\n",
        "hyperdrive_run_config = HyperDriveConfig(run_config=src,\n",
        "                                     hyperparameter_sampling=param_sampling,\n",
        "                                     policy=early_termination_policy,\n",
        "                                     primary_metric_name='r2',\n",
        "                                     primary_metric_goal=PrimaryMetricGoal.MAXIMIZE,\n",
        "                                     max_total_runs=20,\n",
        "                                     max_concurrent_runs=4\n",
        "                    )"
      ],
      "outputs": [],
      "execution_count": 10,
      "metadata": {
        "gather": {
          "logged": 1696946306510
        },
        "jupyter": {
          "outputs_hidden": false,
          "source_hidden": false
        },
        "nteract": {
          "transient": {
            "deleting": false
          }
        }
      }
    },
    {
      "cell_type": "code",
      "source": [
        "#TODO: Submit your experiment\n",
        "hyperdrive_run = experiment.submit(config=hyperdrive_run_config) "
      ],
      "outputs": [],
      "execution_count": 11,
      "metadata": {
        "gather": {
          "logged": 1696946309920
        },
        "jupyter": {
          "outputs_hidden": false,
          "source_hidden": false
        },
        "nteract": {
          "transient": {
            "deleting": false
          }
        }
      }
    },
    {
      "cell_type": "code",
      "source": [
        "hyperdrive_run.wait_for_completion(show_output=True)"
      ],
      "outputs": [
        {
          "output_type": "stream",
          "name": "stdout",
          "text": "RunId: HD_e4a612c1-f3f5-417b-b8e8-95f767cbd289\nWeb View: https://ml.azure.com/runs/HD_e4a612c1-f3f5-417b-b8e8-95f767cbd289?wsid=/subscriptions/9a8ef160-b36c-4d1c-95d2-b381d53baaa3/resourcegroups/rg-bigdatanetworks-uad-pro/workspaces/aml-BigDataNetworksuad-pro&tid=031a09bc-a2bf-44df-888e-4e09355b7a24\n\nStreaming azureml-logs/hyperdrive.txt\n=====================================\n\n[2023-10-10T13:58:30.456079][GENERATOR][INFO]Trying to sample '4' jobs from the hyperparameter space\n[2023-10-10T13:58:31.1116654Z][SCHEDULER][INFO]Scheduling job, id='HD_e4a612c1-f3f5-417b-b8e8-95f767cbd289_0' \n[2023-10-10T13:58:31.4221426Z][SCHEDULER][INFO]Scheduling job, id='HD_e4a612c1-f3f5-417b-b8e8-95f767cbd289_1' \n[2023-10-10T13:58:31.496751][GENERATOR][INFO]Successfully sampled '4' jobs, they will soon be submitted to the execution target.\n[2023-10-10T13:58:31.5741305Z][SCHEDULER][INFO]Successfully scheduled a job. Id='HD_e4a612c1-f3f5-417b-b8e8-95f767cbd289_0' \n[2023-10-10T13:58:31.6837641Z][SCHEDULER][INFO]Successfully scheduled a job. Id='HD_e4a612c1-f3f5-417b-b8e8-95f767cbd289_1' \n[2023-10-10T13:58:31.7069327Z][SCHEDULER][INFO]Scheduling job, id='HD_e4a612c1-f3f5-417b-b8e8-95f767cbd289_2' \n[2023-10-10T13:58:31.9611363Z][SCHEDULER][INFO]Successfully scheduled a job. Id='HD_e4a612c1-f3f5-417b-b8e8-95f767cbd289_2' \n[2023-10-10T13:58:32.2002261Z][SCHEDULER][INFO]Scheduling job, id='HD_e4a612c1-f3f5-417b-b8e8-95f767cbd289_3' \n[2023-10-10T13:58:32.4529542Z][SCHEDULER][INFO]Successfully scheduled a job. Id='HD_e4a612c1-f3f5-417b-b8e8-95f767cbd289_3' \n[2023-10-10T14:00:29.673545][CONTROLLER][WARNING][HDFlowDebug]The first 4 jobs have failed due to usererror. The system is cancelling the further child runs and failing the experiment. Please resolve the issues before resubmitting the experiment.\n[2023-10-10T14:00:29.673380][CONTROLLER][INFO]Experiment has been marked for cancellation.\n[2023-10-10T14:00:30.427491][GENERATOR][INFO]Trying to sample '4' jobs from the hyperparameter space\n[2023-10-10T14:00:31.0621049Z][SCHEDULER][INFO]Scheduling job, id='HD_e4a612c1-f3f5-417b-b8e8-95f767cbd289_4' \n[2023-10-10T14:00:31.3074828Z][SCHEDULER][INFO]Scheduling job, id='HD_e4a612c1-f3f5-417b-b8e8-95f767cbd289_5' \n[2023-10-10T14:00:31.393891][GENERATOR][INFO]Successfully sampled '4' jobs, they will soon be submitted to the execution target.\n[2023-10-10T14:00:31.4875733Z][SCHEDULER][INFO]Scheduling job, id='HD_e4a612c1-f3f5-417b-b8e8-95f767cbd289_6' \n[2023-10-10T14:00:31.5593081Z][SCHEDULER][INFO]Successfully scheduled a job. Id='HD_e4a612c1-f3f5-417b-b8e8-95f767cbd289_4' \n[2023-10-10T14:00:31.6251516Z][SCHEDULER][INFO]Successfully scheduled a job. Id='HD_e4a612c1-f3f5-417b-b8e8-95f767cbd289_5' \n[2023-10-10T14:00:31.7154916Z][SCHEDULER][INFO]Scheduling job, id='HD_e4a612c1-f3f5-417b-b8e8-95f767cbd289_7' \n[2023-10-10T14:00:31.7717937Z][SCHEDULER][INFO]Successfully scheduled a job. Id='HD_e4a612c1-f3f5-417b-b8e8-95f767cbd289_6' \n[2023-10-10T14:00:32.0476545Z][SCHEDULER][INFO]Successfully scheduled a job. Id='HD_e4a612c1-f3f5-417b-b8e8-95f767cbd289_7' \n[2023-10-10T14:01:03.5377628Z][SCHEDULER][INFO]Cancelling job, id='HD_e4a612c1-f3f5-417b-b8e8-95f767cbd289_4' \n[2023-10-10T14:01:03.5393626Z][SCHEDULER][INFO]Cancelling job, id='HD_e4a612c1-f3f5-417b-b8e8-95f767cbd289_6' \n[2023-10-10T14:01:03.5385069Z][SCHEDULER][INFO]Cancelling job, id='HD_e4a612c1-f3f5-417b-b8e8-95f767cbd289_5' \n[2023-10-10T14:01:03.5395306Z][SCHEDULER][INFO]Cancelling job, id='HD_e4a612c1-f3f5-417b-b8e8-95f767cbd289_7' \n[2023-10-10T14:01:03.9952142Z][SCHEDULER][INFO]Updating job statuses to cancelled: [(job id = 'HD_e4a612c1-f3f5-417b-b8e8-95f767cbd289_4', previous status = 'RUNNING'), (job id = 'HD_e4a612c1-f3f5-417b-b8e8-95f767cbd289_5', previous status = 'RUNNING'), (job id = 'HD_e4a612c1-f3f5-417b-b8e8-95f767cbd289_6', previous status = 'RUNNING'), (job id = 'HD_e4a612c1-f3f5-417b-b8e8-95f767cbd289_7', previous status = 'RUNNING')] \n[2023-10-10T14:01:59.933096][CONTROLLER][WARNING]Marking the experiment for user error because initial child jobs have failed due to user error\n[2023-10-10T14:02:00.229249][CONTROLLER][WARNING]Marking the experiment for user error because initial child jobs have failed due to user error\n[2023-10-10T14:02:00.229180][CONTROLLER][INFO]Experiment has been marked for failure.\n[2023-10-10T14:02:00.538369][CONTROLLER][INFO]Experiment has been marked for failure.\n[2023-10-10T14:02:00.538430][CONTROLLER][WARNING]User errors were found in at least one of the child runs.\n[2023-10-10T14:02:01.652865][CONTROLLER][INFO]Experiment was 'ExperimentStatus.RUNNING', is 'ExperimentStatus.FAILED'.\n\nExecution Summary\n=================\nRunId: HD_e4a612c1-f3f5-417b-b8e8-95f767cbd289\nWeb View: https://ml.azure.com/runs/HD_e4a612c1-f3f5-417b-b8e8-95f767cbd289?wsid=/subscriptions/9a8ef160-b36c-4d1c-95d2-b381d53baaa3/resourcegroups/rg-bigdatanetworks-uad-pro/workspaces/aml-BigDataNetworksuad-pro&tid=031a09bc-a2bf-44df-888e-4e09355b7a24\n\nWarnings:\nFailed to pull Docker image acrbigdatanetworksuadpro.azurecr.io/azureml/azureml_7c63040e77dc092700d04a25d8e01ae1. This error may occur because the compute could not authenticate with the Docker registry to pull the image. If using ACR please ensure the ACR has Admin user enabled or a Managed Identity with `AcrPull` access to the ACR is assigned to the compute. If the ACR Admin user's password was changed recently it may be necessary to synchronize the workspace keys. Marking the experiment as fa\nFailed to pull Docker image acrbigdatanetworksuadpro.azurecr.io/azureml/azureml_7c63040e77dc092700d04a25d8e01ae1. This error may occur because the compute could not authenticate with the Docker registry to pull the image. If using ACR please ensure the ACR has Admin user enabled or a Managed Identity with `AcrPull` access to the ACR is assigned to the compute. If the ACR Admin user's password was changed recently it may be necessary to synchronize the workspace keys. User errors were found in at\n\n"
        },
        {
          "output_type": "error",
          "ename": "ActivityFailedException",
          "evalue": "ActivityFailedException:\n\tMessage: Activity Failed:\n{\n    \"error\": {\n        \"code\": \"UserError\",\n        \"message\": \"Failed to pull Docker image acrbigdatanetworksuadpro.azurecr.io/azureml/azureml_7c63040e77dc092700d04a25d8e01ae1. This error may occur because the compute could not authenticate with the Docker registry to pull the image. If using ACR please ensure the ACR has Admin user enabled or a Managed Identity with `AcrPull` access to the ACR is assigned to the compute. If the ACR Admin user's password was changed recently it may be necessary to synchronize the workspace keys. Marking the experiment as failed because initial child jobs have failed due to user error\",\n        \"messageParameters\": {},\n        \"details\": []\n    },\n    \"time\": \"0001-01-01T00:00:00.000Z\"\n}\n\tInnerException None\n\tErrorResponse \n{\n    \"error\": {\n        \"message\": \"Activity Failed:\\n{\\n    \\\"error\\\": {\\n        \\\"code\\\": \\\"UserError\\\",\\n        \\\"message\\\": \\\"Failed to pull Docker image acrbigdatanetworksuadpro.azurecr.io/azureml/azureml_7c63040e77dc092700d04a25d8e01ae1. This error may occur because the compute could not authenticate with the Docker registry to pull the image. If using ACR please ensure the ACR has Admin user enabled or a Managed Identity with `AcrPull` access to the ACR is assigned to the compute. If the ACR Admin user's password was changed recently it may be necessary to synchronize the workspace keys. Marking the experiment as failed because initial child jobs have failed due to user error\\\",\\n        \\\"messageParameters\\\": {},\\n        \\\"details\\\": []\\n    },\\n    \\\"time\\\": \\\"0001-01-01T00:00:00.000Z\\\"\\n}\"\n    }\n}",
          "traceback": [
            "\u001b[0;31m---------------------------------------------------------------------------\u001b[0m",
            "\u001b[0;31mActivityFailedException\u001b[0m                   Traceback (most recent call last)",
            "Cell \u001b[0;32mIn[12], line 1\u001b[0m\n\u001b[0;32m----> 1\u001b[0m \u001b[43mhyperdrive_run\u001b[49m\u001b[38;5;241;43m.\u001b[39;49m\u001b[43mwait_for_completion\u001b[49m\u001b[43m(\u001b[49m\u001b[43mshow_output\u001b[49m\u001b[38;5;241;43m=\u001b[39;49m\u001b[38;5;28;43;01mTrue\u001b[39;49;00m\u001b[43m)\u001b[49m\n",
            "File \u001b[0;32m/anaconda/envs/azureml_py38/lib/python3.8/site-packages/azureml/core/run.py:849\u001b[0m, in \u001b[0;36mRun.wait_for_completion\u001b[0;34m(self, show_output, wait_post_processing, raise_on_error)\u001b[0m\n\u001b[1;32m    847\u001b[0m \u001b[38;5;28;01mif\u001b[39;00m show_output:\n\u001b[1;32m    848\u001b[0m     \u001b[38;5;28;01mtry\u001b[39;00m:\n\u001b[0;32m--> 849\u001b[0m         \u001b[38;5;28;43mself\u001b[39;49m\u001b[38;5;241;43m.\u001b[39;49m\u001b[43m_stream_run_output\u001b[49m\u001b[43m(\u001b[49m\n\u001b[1;32m    850\u001b[0m \u001b[43m            \u001b[49m\u001b[43mfile_handle\u001b[49m\u001b[38;5;241;43m=\u001b[39;49m\u001b[43msys\u001b[49m\u001b[38;5;241;43m.\u001b[39;49m\u001b[43mstdout\u001b[49m\u001b[43m,\u001b[49m\n\u001b[1;32m    851\u001b[0m \u001b[43m            \u001b[49m\u001b[43mwait_post_processing\u001b[49m\u001b[38;5;241;43m=\u001b[39;49m\u001b[43mwait_post_processing\u001b[49m\u001b[43m,\u001b[49m\n\u001b[1;32m    852\u001b[0m \u001b[43m            \u001b[49m\u001b[43mraise_on_error\u001b[49m\u001b[38;5;241;43m=\u001b[39;49m\u001b[43mraise_on_error\u001b[49m\u001b[43m)\u001b[49m\n\u001b[1;32m    853\u001b[0m         \u001b[38;5;28;01mreturn\u001b[39;00m \u001b[38;5;28mself\u001b[39m\u001b[38;5;241m.\u001b[39mget_details()\n\u001b[1;32m    854\u001b[0m     \u001b[38;5;28;01mexcept\u001b[39;00m \u001b[38;5;167;01mKeyboardInterrupt\u001b[39;00m:\n",
            "File \u001b[0;32m/anaconda/envs/azureml_py38/lib/python3.8/site-packages/azureml/core/run.py:1102\u001b[0m, in \u001b[0;36mRun._stream_run_output\u001b[0;34m(self, file_handle, wait_post_processing, raise_on_error)\u001b[0m\n\u001b[1;32m   1100\u001b[0m         file_handle\u001b[38;5;241m.\u001b[39mwrite(\u001b[38;5;124m\"\u001b[39m\u001b[38;5;130;01m\\n\u001b[39;00m\u001b[38;5;124m\"\u001b[39m)\n\u001b[1;32m   1101\u001b[0m     \u001b[38;5;28;01melse\u001b[39;00m:\n\u001b[0;32m-> 1102\u001b[0m         \u001b[38;5;28;01mraise\u001b[39;00m ActivityFailedException(error_details\u001b[38;5;241m=\u001b[39mjson\u001b[38;5;241m.\u001b[39mdumps(error, indent\u001b[38;5;241m=\u001b[39m\u001b[38;5;241m4\u001b[39m))\n\u001b[1;32m   1104\u001b[0m file_handle\u001b[38;5;241m.\u001b[39mwrite(\u001b[38;5;124m\"\u001b[39m\u001b[38;5;130;01m\\n\u001b[39;00m\u001b[38;5;124m\"\u001b[39m)\n\u001b[1;32m   1105\u001b[0m file_handle\u001b[38;5;241m.\u001b[39mflush()\n",
            "\u001b[0;31mActivityFailedException\u001b[0m: ActivityFailedException:\n\tMessage: Activity Failed:\n{\n    \"error\": {\n        \"code\": \"UserError\",\n        \"message\": \"Failed to pull Docker image acrbigdatanetworksuadpro.azurecr.io/azureml/azureml_7c63040e77dc092700d04a25d8e01ae1. This error may occur because the compute could not authenticate with the Docker registry to pull the image. If using ACR please ensure the ACR has Admin user enabled or a Managed Identity with `AcrPull` access to the ACR is assigned to the compute. If the ACR Admin user's password was changed recently it may be necessary to synchronize the workspace keys. Marking the experiment as failed because initial child jobs have failed due to user error\",\n        \"messageParameters\": {},\n        \"details\": []\n    },\n    \"time\": \"0001-01-01T00:00:00.000Z\"\n}\n\tInnerException None\n\tErrorResponse \n{\n    \"error\": {\n        \"message\": \"Activity Failed:\\n{\\n    \\\"error\\\": {\\n        \\\"code\\\": \\\"UserError\\\",\\n        \\\"message\\\": \\\"Failed to pull Docker image acrbigdatanetworksuadpro.azurecr.io/azureml/azureml_7c63040e77dc092700d04a25d8e01ae1. This error may occur because the compute could not authenticate with the Docker registry to pull the image. If using ACR please ensure the ACR has Admin user enabled or a Managed Identity with `AcrPull` access to the ACR is assigned to the compute. If the ACR Admin user's password was changed recently it may be necessary to synchronize the workspace keys. Marking the experiment as failed because initial child jobs have failed due to user error\\\",\\n        \\\"messageParameters\\\": {},\\n        \\\"details\\\": []\\n    },\\n    \\\"time\\\": \\\"0001-01-01T00:00:00.000Z\\\"\\n}\"\n    }\n}"
          ]
        }
      ],
      "execution_count": 12,
      "metadata": {
        "jupyter": {
          "source_hidden": false,
          "outputs_hidden": false
        },
        "nteract": {
          "transient": {
            "deleting": false
          }
        },
        "gather": {
          "logged": 1696946576759
        }
      }
    },
    {
      "cell_type": "markdown",
      "source": [
        "## Run Details\n",
        "\n",
        "OPTIONAL: Write about the different models trained and their performance. Why do you think some models did better than others?\n",
        "\n",
        "TODO: In the cell below, use the `RunDetails` widget to show the different experiments."
      ],
      "metadata": {
        "collapsed": true,
        "gather": {
          "logged": 1598544898497
        },
        "jupyter": {
          "outputs_hidden": false,
          "source_hidden": false
        },
        "nteract": {
          "transient": {
            "deleting": false
          }
        }
      }
    },
    {
      "cell_type": "code",
      "source": [
        "!jupyter nbextension enable azureml.widgets --user --py"
      ],
      "outputs": [],
      "execution_count": null,
      "metadata": {
        "jupyter": {
          "source_hidden": false,
          "outputs_hidden": false
        },
        "nteract": {
          "transient": {
            "deleting": false
          }
        }
      }
    },
    {
      "cell_type": "code",
      "source": [
        "RunDetails(hyperdrive_run).show()"
      ],
      "outputs": [],
      "execution_count": null,
      "metadata": {
        "gather": {
          "logged": 1696945354102
        },
        "jupyter": {
          "outputs_hidden": false,
          "source_hidden": false
        },
        "nteract": {
          "transient": {
            "deleting": false
          }
        }
      }
    },
    {
      "cell_type": "markdown",
      "source": [
        "## Best Model\n",
        "\n",
        "TODO: In the cell below, get the best model from the hyperdrive experiments and display all the properties of the model."
      ],
      "metadata": {}
    },
    {
      "cell_type": "code",
      "source": [],
      "outputs": [],
      "execution_count": null,
      "metadata": {
        "gather": {
          "logged": 1598546650307
        },
        "jupyter": {
          "outputs_hidden": false,
          "source_hidden": false
        },
        "nteract": {
          "transient": {
            "deleting": false
          }
        }
      }
    },
    {
      "cell_type": "code",
      "source": [
        "#TODO: Save the best model"
      ],
      "outputs": [],
      "execution_count": null,
      "metadata": {
        "gather": {
          "logged": 1696945354120
        },
        "jupyter": {
          "outputs_hidden": false,
          "source_hidden": false
        },
        "nteract": {
          "transient": {
            "deleting": false
          }
        }
      }
    },
    {
      "cell_type": "markdown",
      "source": [
        "## Model Deployment\n",
        "\n",
        "Remember you have to deploy only one of the two models you trained but you still need to register both the models. Perform the steps in the rest of this notebook only if you wish to deploy this model.\n",
        "\n",
        "TODO: In the cell below, register the model, create an inference config and deploy the model as a web service."
      ],
      "metadata": {
        "collapsed": true,
        "jupyter": {
          "outputs_hidden": false,
          "source_hidden": false
        },
        "nteract": {
          "transient": {
            "deleting": false
          }
        }
      }
    },
    {
      "cell_type": "code",
      "source": [],
      "outputs": [],
      "execution_count": null,
      "metadata": {}
    },
    {
      "cell_type": "markdown",
      "source": [
        "TODO: In the cell below, send a request to the web service you deployed to test it."
      ],
      "metadata": {}
    },
    {
      "cell_type": "code",
      "source": [],
      "outputs": [],
      "execution_count": null,
      "metadata": {}
    },
    {
      "cell_type": "markdown",
      "source": [
        "TODO: In the cell below, print the logs of the web service and delete the service"
      ],
      "metadata": {}
    },
    {
      "cell_type": "code",
      "source": [],
      "outputs": [],
      "execution_count": null,
      "metadata": {}
    },
    {
      "cell_type": "markdown",
      "source": [
        "**Submission Checklist**\n",
        "- I have registered the model.\n",
        "- I have deployed the model with the best accuracy as a webservice.\n",
        "- I have tested the webservice by sending a request to the model endpoint.\n",
        "- I have deleted the webservice and shutdown all the computes that I have used.\n",
        "- I have taken a screenshot showing the model endpoint as active.\n",
        "- The project includes a file containing the environment details.\n",
        "\n"
      ],
      "metadata": {}
    },
    {
      "cell_type": "markdown",
      "source": [],
      "metadata": {}
    }
  ],
  "metadata": {
    "kernel_info": {
      "name": "python38-azureml"
    },
    "kernelspec": {
      "name": "python38-azureml",
      "language": "python",
      "display_name": "Python 3.8 - AzureML"
    },
    "language_info": {
      "name": "python",
      "version": "3.8.10",
      "mimetype": "text/x-python",
      "codemirror_mode": {
        "name": "ipython",
        "version": 3
      },
      "pygments_lexer": "ipython3",
      "nbconvert_exporter": "python",
      "file_extension": ".py"
    },
    "nteract": {
      "version": "nteract-front-end@1.0.0"
    },
    "microsoft": {
      "host": {
        "AzureML": {
          "notebookHasBeenCompleted": true
        }
      },
      "ms_spell_check": {
        "ms_spell_check_language": "en"
      }
    }
  },
  "nbformat": 4,
  "nbformat_minor": 2
}